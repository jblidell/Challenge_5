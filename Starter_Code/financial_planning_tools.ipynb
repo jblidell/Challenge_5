{
 "cells": [
  {
   "cell_type": "markdown",
   "metadata": {},
   "source": [
    "# Financial Planning with APIs and Simulations\n",
    "\n",
    "In this Challenge, you’ll create two financial analysis tools by using a single Jupyter notebook:\n",
    "\n",
    "Part 1: A financial planner for emergencies. The members will be able to use this tool to visualize their current savings. The members can then determine if they have enough reserves for an emergency fund.\n",
    "\n",
    "Part 2: A financial planner for retirement. This tool will forecast the performance of their retirement portfolio in 30 years. To do this, the tool will make an Alpaca API call via the Alpaca SDK to get historical price data for use in Monte Carlo simulations.\n",
    "\n",
    "You’ll use the information from the Monte Carlo simulation to answer questions about the portfolio in your Jupyter notebook.\n",
    "\n"
   ]
  },
  {
   "cell_type": "code",
   "execution_count": 1,
   "metadata": {},
   "outputs": [],
   "source": [
    "# Import the required libraries and dependencies\n",
    "import os\n",
    "import requests\n",
    "import json\n",
    "import pandas as pd\n",
    "from dotenv import load_dotenv\n",
    "import alpaca_trade_api as tradeapi\n",
    "from MCForecastTools import MCSimulation\n",
    "\n",
    "%matplotlib inline"
   ]
  },
  {
   "cell_type": "code",
   "execution_count": 2,
   "metadata": {},
   "outputs": [
    {
     "data": {
      "text/plain": [
       "True"
      ]
     },
     "execution_count": 2,
     "metadata": {},
     "output_type": "execute_result"
    }
   ],
   "source": [
    "# Load the environment variables from the .env file\n",
    "#by calling the load_dotenv function\n",
    "load_dotenv()"
   ]
  },
  {
   "cell_type": "markdown",
   "metadata": {},
   "source": [
    "## Part 1: Create a Financial Planner for Emergencies"
   ]
  },
  {
   "cell_type": "markdown",
   "metadata": {},
   "source": [
    "### Evaluate the Cryptocurrency Wallet by Using the Requests Library\n",
    "\n",
    "In this section, you’ll determine the current value of a member’s cryptocurrency wallet. You’ll collect the current prices for the Bitcoin and Ethereum cryptocurrencies by using the Python Requests library. For the prototype, you’ll assume that the member holds the 1.2 Bitcoins (BTC) and 5.3 Ethereum coins (ETH). To do all this, complete the following steps:\n",
    "\n",
    "1. Create a variable named `monthly_income`, and set its value to `12000`.\n",
    "\n",
    "2. Use the Requests library to get the current price (in US dollars) of Bitcoin (BTC) and Ethereum (ETH) by using the API endpoints that the starter code supplies.\n",
    "\n",
    "3. Navigate the JSON response object to access the current price of each coin, and store each in a variable.\n",
    "\n",
    "    > **Hint** Note the specific identifier for each cryptocurrency in the API JSON response. The Bitcoin identifier is `1`, and the Ethereum identifier is `1027`.\n",
    "\n",
    "4. Calculate the value, in US dollars, of the current amount of each cryptocurrency and of the entire cryptocurrency wallet.\n",
    "\n"
   ]
  },
  {
   "cell_type": "code",
   "execution_count": 3,
   "metadata": {},
   "outputs": [],
   "source": [
    "# The current number of coins for each cryptocurrency asset held in the portfolio.\n",
    "btc_coins = 1.2\n",
    "eth_coins = 5.3"
   ]
  },
  {
   "cell_type": "markdown",
   "metadata": {},
   "source": [
    "#### Step 1: Create a variable named `monthly_income`, and set its value to `12000`."
   ]
  },
  {
   "cell_type": "code",
   "execution_count": 4,
   "metadata": {},
   "outputs": [],
   "source": [
    "# The monthly amount for the member's household income\n",
    "monthly_income = 12000"
   ]
  },
  {
   "cell_type": "markdown",
   "metadata": {},
   "source": [
    "#### Review the endpoint URLs for the API calls to Free Crypto API in order to get the current pricing information for both BTC and ETH."
   ]
  },
  {
   "cell_type": "code",
   "execution_count": 5,
   "metadata": {},
   "outputs": [],
   "source": [
    "# The Free Crypto API Call endpoint URLs for the held cryptocurrency assets\n",
    "btc_url = \"https://api.alternative.me/v2/ticker/Bitcoin/?convert=USD\"\n",
    "eth_url = \"https://api.alternative.me/v2/ticker/Ethereum/?convert=USD\""
   ]
  },
  {
   "cell_type": "markdown",
   "metadata": {},
   "source": [
    "#### Step 2. Use the Requests library to get the current price (in US dollars) of Bitcoin (BTC) and Ethereum (ETH) by using the API endpoints that the starter code supplied."
   ]
  },
  {
   "cell_type": "code",
   "execution_count": 6,
   "metadata": {},
   "outputs": [
    {
     "name": "stdout",
     "output_type": "stream",
     "text": [
      "{\n",
      "  \"data\": {\n",
      "    \"1\": {\n",
      "      \"circulating_supply\": 19060331,\n",
      "      \"id\": 1,\n",
      "      \"last_updated\": 1654573365,\n",
      "      \"max_supply\": 21000000,\n",
      "      \"name\": \"Bitcoin\",\n",
      "      \"quotes\": {\n",
      "        \"USD\": {\n",
      "          \"market_cap\": 564777316297,\n",
      "          \"percent_change_1h\": 0.727755120394763,\n",
      "          \"percent_change_24h\": -4.65561824972672,\n",
      "          \"percent_change_7d\": -6.67279541731193,\n",
      "          \"percentage_change_1h\": 0.727755120394763,\n",
      "          \"percentage_change_24h\": -4.65561824972672,\n",
      "          \"percentage_change_7d\": -6.67279541731193,\n",
      "          \"price\": 29623.0,\n",
      "          \"volume_24h\": 29814635569\n",
      "        }\n",
      "      },\n",
      "      \"rank\": 1,\n",
      "      \"symbol\": \"BTC\",\n",
      "      \"total_supply\": 19060331,\n",
      "      \"website_slug\": \"bitcoin\"\n",
      "    }\n",
      "  },\n",
      "  \"metadata\": {\n",
      "    \"error\": null,\n",
      "    \"num_cryptocurrencies\": 3116,\n",
      "    \"timestamp\": 1654573365\n",
      "  }\n",
      "}\n"
     ]
    }
   ],
   "source": [
    "# Using the Python requests library, make an API call to access the current price of BTC\n",
    "btc_response = requests.get(btc_url).json()\n",
    "\n",
    "# Use the json.dumps function to review the response data from the API call\n",
    "# Use the indent and sort_keys parameters to make the response object readable\n",
    "print(json.dumps(btc_response, sort_keys=True, indent=2))"
   ]
  },
  {
   "cell_type": "code",
   "execution_count": 7,
   "metadata": {},
   "outputs": [
    {
     "name": "stdout",
     "output_type": "stream",
     "text": [
      "{\n",
      "  \"data\": {\n",
      "    \"1027\": {\n",
      "      \"circulating_supply\": 121078339,\n",
      "      \"id\": 1027,\n",
      "      \"last_updated\": 1654573363,\n",
      "      \"max_supply\": 0,\n",
      "      \"name\": \"Ethereum\",\n",
      "      \"quotes\": {\n",
      "        \"USD\": {\n",
      "          \"market_cap\": 212763645955,\n",
      "          \"percent_change_1h\": 1.16129698060874,\n",
      "          \"percent_change_24h\": -6.06900275538382,\n",
      "          \"percent_change_7d\": -11.9337799420893,\n",
      "          \"percentage_change_1h\": 1.16129698060874,\n",
      "          \"percentage_change_24h\": -6.06900275538382,\n",
      "          \"percentage_change_7d\": -11.9337799420893,\n",
      "          \"price\": 1757.75,\n",
      "          \"volume_24h\": 19225865794\n",
      "        }\n",
      "      },\n",
      "      \"rank\": 2,\n",
      "      \"symbol\": \"ETH\",\n",
      "      \"total_supply\": 121078339,\n",
      "      \"website_slug\": \"ethereum\"\n",
      "    }\n",
      "  },\n",
      "  \"metadata\": {\n",
      "    \"error\": null,\n",
      "    \"num_cryptocurrencies\": 3116,\n",
      "    \"timestamp\": 1654573363\n",
      "  }\n",
      "}\n"
     ]
    }
   ],
   "source": [
    "# Using the Python requests library, make an API call to access the current price ETH\n",
    "eth_response = requests.get(eth_url).json()\n",
    "\n",
    "# Use the json.dumps function to review the response data from the API call\n",
    "# Use the indent and sort_keys parameters to make the response object readable\n",
    "print(json.dumps(eth_response, sort_keys=True, indent=2))\n"
   ]
  },
  {
   "cell_type": "markdown",
   "metadata": {},
   "source": [
    "#### Step 3: Navigate the JSON response object to access the current price of each coin, and store each in a variable."
   ]
  },
  {
   "cell_type": "code",
   "execution_count": 8,
   "metadata": {},
   "outputs": [
    {
     "name": "stdout",
     "output_type": "stream",
     "text": [
      "$29623.0 USD\n"
     ]
    }
   ],
   "source": [
    "# Navigate the BTC response object to access the current price of BTC\n",
    "btc_price = btc_response[\"data\"][\"1\"][\"quotes\"][\"USD\"][\"price\"]\n",
    "\n",
    "# Print the current price of BTC\n",
    "print(f\"${round(btc_price,2)} USD\")\n"
   ]
  },
  {
   "cell_type": "code",
   "execution_count": 9,
   "metadata": {},
   "outputs": [
    {
     "name": "stdout",
     "output_type": "stream",
     "text": [
      "$1757.75 USD\n"
     ]
    }
   ],
   "source": [
    "# Navigate the BTC response object to access the current price of ETH\n",
    "eth_price = eth_response[\"data\"][\"1027\"][\"quotes\"][\"USD\"][\"price\"]\n",
    "\n",
    "# Print the current price of ETH\n",
    "print(f\"${round(eth_price,2)} USD\")\n"
   ]
  },
  {
   "cell_type": "markdown",
   "metadata": {},
   "source": [
    "### Step 4: Calculate the value, in US dollars, of the current amount of each cryptocurrency and of the entire cryptocurrency wallet."
   ]
  },
  {
   "cell_type": "code",
   "execution_count": 10,
   "metadata": {},
   "outputs": [
    {
     "name": "stdout",
     "output_type": "stream",
     "text": [
      "$35547.6 USD\n"
     ]
    }
   ],
   "source": [
    "# Compute the current value of the BTC holding \n",
    "btc_value = btc_coins*btc_price\n",
    "# Print current value of your holding in BTC\n",
    "print(f\"${round(btc_value,2)} USD\")\n"
   ]
  },
  {
   "cell_type": "code",
   "execution_count": 11,
   "metadata": {},
   "outputs": [
    {
     "name": "stdout",
     "output_type": "stream",
     "text": [
      "$9316.07 USD\n"
     ]
    }
   ],
   "source": [
    "# Compute the current value of the ETH holding \n",
    "eth_value = eth_coins*eth_price\n",
    "\n",
    "# Print current value of your holding in ETH\n",
    "print(f\"${round(eth_value,2)} USD\")\n"
   ]
  },
  {
   "cell_type": "code",
   "execution_count": 12,
   "metadata": {},
   "outputs": [
    {
     "name": "stdout",
     "output_type": "stream",
     "text": [
      "$44863.67 USD\n"
     ]
    }
   ],
   "source": [
    "# Compute the total value of the cryptocurrency wallet\n",
    "# Add the value of the BTC holding to the value of the ETH holding\n",
    "total_crypto_wallet = btc_value + eth_value\n",
    "\n",
    "# Print current cryptocurrency wallet balance\n",
    "print(f\"${round(total_crypto_wallet,2)} USD\")\n"
   ]
  },
  {
   "cell_type": "markdown",
   "metadata": {},
   "source": [
    "### Evaluate the Stock and Bond Holdings by Using the Alpaca SDK\n",
    "\n",
    "In this section, you’ll determine the current value of a member’s stock and bond holdings. You’ll make an API call to Alpaca via the Alpaca SDK to get the current closing prices of the SPDR S&P 500 ETF Trust (ticker: SPY) and of the iShares Core US Aggregate Bond ETF (ticker: AGG). For the prototype, assume that the member holds 110 shares of SPY, which represents the stock portion of their portfolio, and 200 shares of AGG, which represents the bond portion. To do all this, complete the following steps:\n",
    "\n",
    "1. In the `Starter_Code` folder, create an environment file (`.env`) to store the values of your Alpaca API key and Alpaca secret key.\n",
    "\n",
    "2. Set the variables for the Alpaca API and secret keys. Using the Alpaca SDK, create the Alpaca `tradeapi.REST` object. In this object, include the parameters for the Alpaca API key, the secret key, and the version number.\n",
    "\n",
    "3. Set the following parameters for the Alpaca API call:\n",
    "\n",
    "    - `tickers`: Use the tickers for the member’s stock and bond holdings.\n",
    "\n",
    "    - `timeframe`: Use a time frame of one day.\n",
    "\n",
    "    - `start_date` and `end_date`: Use the same date for these parameters, and format them with the date of the previous weekday (or `2020-08-07`). This is because you want the one closing price for the most-recent trading day.\n",
    "\n",
    "4. Get the current closing prices for `SPY` and `AGG` by using the Alpaca `get_bars` function. Format the response as a Pandas DataFrame by including the `df` property at the end of the `get_bars` function.\n",
    "\n",
    "5. Navigating the Alpaca response DataFrame, select the `SPY` and `AGG` closing prices, and store them as variables.\n",
    "\n",
    "6. Calculate the value, in US dollars, of the current amount of shares in each of the stock and bond portions of the portfolio, and print the results.\n"
   ]
  },
  {
   "cell_type": "markdown",
   "metadata": {},
   "source": [
    "#### Review the total number of shares held in both (SPY) and (AGG)."
   ]
  },
  {
   "cell_type": "code",
   "execution_count": 13,
   "metadata": {},
   "outputs": [],
   "source": [
    "# Current amount of shares held in both the stock (SPY) and bond (AGG) portion of the portfolio.\n",
    "spy_shares = 110\n",
    "agg_shares = 200\n"
   ]
  },
  {
   "cell_type": "markdown",
   "metadata": {},
   "source": [
    "#### Step 1: In the `Starter_Code` folder, create an environment file (`.env`) to store the values of your Alpaca API key and Alpaca secret key."
   ]
  },
  {
   "cell_type": "markdown",
   "metadata": {},
   "source": [
    "#### Step 2: Set the variables for the Alpaca API and secret keys. Using the Alpaca SDK, create the Alpaca `tradeapi.REST` object. In this object, include the parameters for the Alpaca API key, the secret key, and the version number."
   ]
  },
  {
   "cell_type": "code",
   "execution_count": 14,
   "metadata": {},
   "outputs": [
    {
     "name": "stdout",
     "output_type": "stream",
     "text": [
      "PKAO3O989P2XSI5CX78M\n"
     ]
    }
   ],
   "source": [
    "# Set the variables for the Alpaca API and secret keys\n",
    "alpaca_api_key =os.getenv(\"ALPACA_API_KEY\")\n",
    "alpaca_secret_key =os.getenv(\"ALPACA_SECRET_KEY\")\n",
    "\n",
    "\n",
    "\n",
    "# Create the Alpaca tradeapi.REST object\n",
    "\n",
    "alp_api = tradeapi.REST(\n",
    "    alpaca_api_key,\n",
    "    alpaca_secret_key,\n",
    "    api_version = \"v2\"\n",
    ")"
   ]
  },
  {
   "cell_type": "markdown",
   "metadata": {},
   "source": [
    "#### Step 3: Set the following parameters for the Alpaca API call:\n",
    "\n",
    "- `tickers`: Use the tickers for the member’s stock and bond holdings.\n",
    "\n",
    "- `timeframe`: Use a time frame of one day.\n",
    "\n",
    "- `start_date` and `end_date`: Use the same date for these parameters, and format them with the date of the previous weekday (or `2020-08-07`). This is because you want the one closing price for the most-recent trading day.\n"
   ]
  },
  {
   "cell_type": "code",
   "execution_count": 25,
   "metadata": {},
   "outputs": [],
   "source": [
    "# Set the tickers for both the bond and stock portion of the portfolio\n",
    "tickers = [\"SPY\", \"AGG\"]\n",
    "\n",
    "# Set timeframe to 1Day\n",
    "TimeFrame = \"1Day\"\n",
    "\n",
    "# Format current date as ISO format\n",
    "# Set both the start and end date at the date of your prior weekday \n",
    "# This will give you the closing price of the previous trading day\n",
    "# Alternatively you can use a start and end date of 2020-08-07\n",
    "start_date = pd.Timestamp('2022-05-18',tz='America/New_York').isoformat()\n",
    "end_date = pd.Timestamp('2022-05-18',tz='America/New_York').isoformat()\n"
   ]
  },
  {
   "cell_type": "markdown",
   "metadata": {},
   "source": [
    "#### Step 4: Get the current closing prices for `SPY` and `AGG` by using the Alpaca `get_bars` function. Format the response as a Pandas DataFrame by including the `df` property at the end of the `get_bars` function."
   ]
  },
  {
   "cell_type": "code",
   "execution_count": 39,
   "metadata": {},
   "outputs": [
    {
     "name": "stdout",
     "output_type": "stream",
     "text": [
      "                             open     high      low   close   volume  \\\n",
      "timestamp                                                              \n",
      "2022-05-18 04:00:00+00:00  102.11  102.639  102.075  102.59  6091812   \n",
      "\n",
      "                           trade_count       vwap  \n",
      "timestamp                                          \n",
      "2022-05-18 04:00:00+00:00        20134  102.49456  \n"
     ]
    },
    {
     "data": {
      "text/html": [
       "<div>\n",
       "<style scoped>\n",
       "    .dataframe tbody tr th:only-of-type {\n",
       "        vertical-align: middle;\n",
       "    }\n",
       "\n",
       "    .dataframe tbody tr th {\n",
       "        vertical-align: top;\n",
       "    }\n",
       "\n",
       "    .dataframe thead tr th {\n",
       "        text-align: left;\n",
       "    }\n",
       "\n",
       "    .dataframe thead tr:last-of-type th {\n",
       "        text-align: right;\n",
       "    }\n",
       "</style>\n",
       "<table border=\"1\" class=\"dataframe\">\n",
       "  <thead>\n",
       "    <tr>\n",
       "      <th></th>\n",
       "      <th colspan=\"7\" halign=\"left\">SPY</th>\n",
       "      <th colspan=\"7\" halign=\"left\">AGG</th>\n",
       "    </tr>\n",
       "    <tr>\n",
       "      <th></th>\n",
       "      <th>open</th>\n",
       "      <th>high</th>\n",
       "      <th>low</th>\n",
       "      <th>close</th>\n",
       "      <th>volume</th>\n",
       "      <th>trade_count</th>\n",
       "      <th>vwap</th>\n",
       "      <th>open</th>\n",
       "      <th>high</th>\n",
       "      <th>low</th>\n",
       "      <th>close</th>\n",
       "      <th>volume</th>\n",
       "      <th>trade_count</th>\n",
       "      <th>vwap</th>\n",
       "    </tr>\n",
       "    <tr>\n",
       "      <th>timestamp</th>\n",
       "      <th></th>\n",
       "      <th></th>\n",
       "      <th></th>\n",
       "      <th></th>\n",
       "      <th></th>\n",
       "      <th></th>\n",
       "      <th></th>\n",
       "      <th></th>\n",
       "      <th></th>\n",
       "      <th></th>\n",
       "      <th></th>\n",
       "      <th></th>\n",
       "      <th></th>\n",
       "      <th></th>\n",
       "    </tr>\n",
       "  </thead>\n",
       "  <tbody>\n",
       "    <tr>\n",
       "      <th>2022-05-18 04:00:00+00:00</th>\n",
       "      <td>102.11</td>\n",
       "      <td>102.639</td>\n",
       "      <td>102.075</td>\n",
       "      <td>102.59</td>\n",
       "      <td>6091812</td>\n",
       "      <td>20134</td>\n",
       "      <td>102.49456</td>\n",
       "      <td>403.52</td>\n",
       "      <td>403.8</td>\n",
       "      <td>390.55</td>\n",
       "      <td>391.86</td>\n",
       "      <td>117208507</td>\n",
       "      <td>962719</td>\n",
       "      <td>396.040647</td>\n",
       "    </tr>\n",
       "  </tbody>\n",
       "</table>\n",
       "</div>"
      ],
      "text/plain": [
       "                              SPY                                     \\\n",
       "                             open     high      low   close   volume   \n",
       "timestamp                                                              \n",
       "2022-05-18 04:00:00+00:00  102.11  102.639  102.075  102.59  6091812   \n",
       "\n",
       "                                                     AGG                 \\\n",
       "                          trade_count       vwap    open   high     low   \n",
       "timestamp                                                                 \n",
       "2022-05-18 04:00:00+00:00       20134  102.49456  403.52  403.8  390.55   \n",
       "\n",
       "                                                                      \n",
       "                            close     volume trade_count        vwap  \n",
       "timestamp                                                             \n",
       "2022-05-18 04:00:00+00:00  391.86  117208507      962719  396.040647  "
      ]
     },
     "execution_count": 39,
     "metadata": {},
     "output_type": "execute_result"
    }
   ],
   "source": [
    "# Use the Alpaca get_bars function to get current closing prices the portfolio\n",
    "# Be sure to set the `df` property after the function to format the response object as a DataFrame\n",
    "close_price_df = alp_api.get_bars(\n",
    "    tickers,\n",
    "    TimeFrame,\n",
    "    start = start_date,\n",
    "    end = end_date\n",
    ").df\n",
    "\n",
    "# Reorganize the DataFrame\n",
    "# Separate ticker data\n",
    "agg = close_price_df[close_price_df['symbol']=='AGG'].drop('symbol', axis=1)\n",
    "spy = close_price_df[close_price_df['symbol']=='SPY'].drop('symbol', axis=1)\n",
    "print(agg)\n",
    "# Concatenate the ticker DataFrames\n",
    "close_price_df = pd.concat([agg, spy], axis=1, keys=[\"SPY\", \"AGG\"])\n",
    "# Review the first 5 rows of the Alpaca DataFrame\n",
    "close_price_df.head()"
   ]
  },
  {
   "cell_type": "markdown",
   "metadata": {},
   "source": [
    "#### Step 5: Navigating the Alpaca response DataFrame, select the `SPY` and `AGG` closing prices, and store them as variables."
   ]
  },
  {
   "cell_type": "code",
   "execution_count": 40,
   "metadata": {},
   "outputs": [
    {
     "name": "stdout",
     "output_type": "stream",
     "text": [
      "timestamp\n",
      "2022-05-18 04:00:00+00:00    391.86\n",
      "Name: close, dtype: float64\n"
     ]
    }
   ],
   "source": [
    "# Access the closing price for AGG from the Alpaca DataFrame\n",
    "# Converting the value to a floating point number\n",
    "agg_close_price = close_price_df['AGG']['close']\n",
    "\n",
    "# Print the AGG closing price\n",
    "print(agg_close_price)"
   ]
  },
  {
   "cell_type": "code",
   "execution_count": 41,
   "metadata": {},
   "outputs": [
    {
     "name": "stdout",
     "output_type": "stream",
     "text": [
      "timestamp\n",
      "2022-05-18 04:00:00+00:00    102.59\n",
      "Name: close, dtype: float64\n"
     ]
    }
   ],
   "source": [
    "# Access the closing price for SPY from the Alpaca DataFrame\n",
    "# Converting the value to a floating point number\n",
    "spy_close_price = close_price_df['SPY']['close']\n",
    "# Print the SPY closing price\n",
    "print(spy_close_price)"
   ]
  },
  {
   "cell_type": "markdown",
   "metadata": {},
   "source": [
    "#### Step 6: Calculate the value, in US dollars, of the current amount of shares in each of the stock and bond portions of the portfolio, and print the results."
   ]
  },
  {
   "cell_type": "code",
   "execution_count": 61,
   "metadata": {},
   "outputs": [
    {
     "name": "stdout",
     "output_type": "stream",
     "text": [
      "78372.0\n"
     ]
    }
   ],
   "source": [
    "# Calculate the current value of the bond portion of the portfolio\n",
    "agg_value = float(agg_shares*agg_close_price)\n",
    "\n",
    "# Print the current value of the bond portfolio\n",
    "print(agg_value)\n"
   ]
  },
  {
   "cell_type": "code",
   "execution_count": 50,
   "metadata": {},
   "outputs": [
    {
     "name": "stdout",
     "output_type": "stream",
     "text": [
      "11284.9\n"
     ]
    }
   ],
   "source": [
    "# Calculate the current value of the stock portion of the portfolio\n",
    "spy_value = float(spy_shares*spy_close_price)\n",
    "\n",
    "# Print the current value of the stock portfolio\n",
    "print(spy_value)\n"
   ]
  },
  {
   "cell_type": "code",
   "execution_count": 62,
   "metadata": {},
   "outputs": [
    {
     "name": "stdout",
     "output_type": "stream",
     "text": [
      "89656.9\n"
     ]
    }
   ],
   "source": [
    "# Calculate the total value of the stock and bond portion of the portfolio\n",
    "total_stocks_bonds = spy_value+agg_value\n",
    "\n",
    "# Print the current balance of the stock and bond portion of the portfolio\n",
    "print(total_stocks_bonds)\n"
   ]
  },
  {
   "cell_type": "code",
   "execution_count": 63,
   "metadata": {},
   "outputs": [
    {
     "name": "stdout",
     "output_type": "stream",
     "text": [
      "134520.57499999998\n"
     ]
    }
   ],
   "source": [
    "# Calculate the total value of the member's entire savings portfolio\n",
    "# Add the value of the cryptocurrency walled to the value of the total stocks and bonds\n",
    "total_portfolio = total_crypto_wallet+total_stocks_bonds\n",
    "\n",
    "\n",
    "# Print current cryptocurrency wallet balance\n",
    "print(total_portfolio)\n"
   ]
  },
  {
   "cell_type": "markdown",
   "metadata": {},
   "source": [
    "### Evaluate the Emergency Fund\n",
    "\n",
    "In this section, you’ll use the valuations for the cryptocurrency wallet and for the stock and bond portions of the portfolio to determine if the credit union member has enough savings to build an emergency fund into their financial plan. To do this, complete the following steps:\n",
    "\n",
    "1. Create a Python list named `savings_data` that has two elements. The first element contains the total value of the cryptocurrency wallet. The second element contains the total value of the stock and bond portions of the portfolio.\n",
    "\n",
    "2. Use the `savings_data` list to create a Pandas DataFrame named `savings_df`, and then display this DataFrame. The function to create the DataFrame should take the following three parameters:\n",
    "\n",
    "    - `savings_data`: Use the list that you just created.\n",
    "\n",
    "    - `columns`: Set this parameter equal to a Python list with a single value called `amount`.\n",
    "\n",
    "    - `index`: Set this parameter equal to a Python list with the values of `crypto` and `stock/bond`.\n",
    "\n",
    "3. Use the `savings_df` DataFrame to plot a pie chart that visualizes the composition of the member’s portfolio. The y-axis of the pie chart uses `amount`. Be sure to add a title.\n",
    "\n",
    "4. Using Python, determine if the current portfolio has enough to create an emergency fund as part of the member’s financial plan. Ideally, an emergency fund should equal to three times the member’s monthly income. To do this, implement the following steps:\n",
    "\n",
    "    1. Create a variable named `emergency_fund_value`, and set it equal to three times the value of the member’s `monthly_income` of $12000. (You set this earlier in Part 1).\n",
    "\n",
    "    2. Create a series of three if statements to determine if the member’s total portfolio is large enough to fund the emergency portfolio:\n",
    "\n",
    "        1. If the total portfolio value is greater than the emergency fund value, display a message congratulating the member for having enough money in this fund.\n",
    "\n",
    "        2. Else if the total portfolio value is equal to the emergency fund value, display a message congratulating the member on reaching this important financial goal.\n",
    "\n",
    "        3. Else the total portfolio is less than the emergency fund value, so display a message showing how many dollars away the member is from reaching the goal. (Subtract the total portfolio value from the emergency fund value.)\n"
   ]
  },
  {
   "cell_type": "markdown",
   "metadata": {},
   "source": [
    "#### Step 1: Create a Python list named `savings_data` that has two elements. The first element contains the total value of the cryptocurrency wallet. The second element contains the total value of the stock and bond portions of the portfolio."
   ]
  },
  {
   "cell_type": "code",
   "execution_count": 64,
   "metadata": {},
   "outputs": [
    {
     "data": {
      "text/plain": [
       "[44863.674999999996, 89656.9]"
      ]
     },
     "execution_count": 64,
     "metadata": {},
     "output_type": "execute_result"
    }
   ],
   "source": [
    "# Consolidate financial assets data into a Python list\n",
    "savings_data = [total_crypto_wallet,total_stocks_bonds]\n",
    "\n",
    "# Review the Python list savings_data\n",
    "savings_data\n",
    "    "
   ]
  },
  {
   "cell_type": "markdown",
   "metadata": {},
   "source": [
    "#### Step 2: Use the `savings_data` list to create a Pandas DataFrame named `savings_df`, and then display this DataFrame. The function to create the DataFrame should take the following three parameters:\n",
    "\n",
    "- `savings_data`: Use the list that you just created.\n",
    "\n",
    "- `columns`: Set this parameter equal to a Python list with a single value called `amount`.\n",
    "\n",
    "- `index`: Set this parameter equal to a Python list with the values of `crypto` and `stock/bond`.\n"
   ]
  },
  {
   "cell_type": "code",
   "execution_count": 65,
   "metadata": {},
   "outputs": [
    {
     "data": {
      "text/html": [
       "<div>\n",
       "<style scoped>\n",
       "    .dataframe tbody tr th:only-of-type {\n",
       "        vertical-align: middle;\n",
       "    }\n",
       "\n",
       "    .dataframe tbody tr th {\n",
       "        vertical-align: top;\n",
       "    }\n",
       "\n",
       "    .dataframe thead th {\n",
       "        text-align: right;\n",
       "    }\n",
       "</style>\n",
       "<table border=\"1\" class=\"dataframe\">\n",
       "  <thead>\n",
       "    <tr style=\"text-align: right;\">\n",
       "      <th></th>\n",
       "      <th>amount</th>\n",
       "    </tr>\n",
       "  </thead>\n",
       "  <tbody>\n",
       "    <tr>\n",
       "      <th>crypto</th>\n",
       "      <td>44863.675</td>\n",
       "    </tr>\n",
       "    <tr>\n",
       "      <th>stock/bond</th>\n",
       "      <td>89656.900</td>\n",
       "    </tr>\n",
       "  </tbody>\n",
       "</table>\n",
       "</div>"
      ],
      "text/plain": [
       "               amount\n",
       "crypto      44863.675\n",
       "stock/bond  89656.900"
      ]
     },
     "execution_count": 65,
     "metadata": {},
     "output_type": "execute_result"
    }
   ],
   "source": [
    "# Create a Pandas DataFrame called savings_df \n",
    "savings_df = pd.DataFrame(savings_data,columns=['amount'], index=['crypto','stock/bond'])\n",
    "\n",
    "# Display the savings_df DataFrame\n",
    "savings_df"
   ]
  },
  {
   "cell_type": "markdown",
   "metadata": {},
   "source": [
    "#### Step 3: Use the `savings_df` DataFrame to plot a pie chart that visualizes the composition of the member’s portfolio. The y-axis of the pie chart uses `amount`. Be sure to add a title."
   ]
  },
  {
   "cell_type": "code",
   "execution_count": 66,
   "metadata": {},
   "outputs": [
    {
     "data": {
      "text/plain": [
       "<AxesSubplot:title={'center':'Total balance of Portfolio'}, ylabel='amount'>"
      ]
     },
     "execution_count": 66,
     "metadata": {},
     "output_type": "execute_result"
    },
    {
     "data": {
      "image/png": "[encoded data removed]",
      "text/plain": [
       "<Figure size 504x504 with 1 Axes>"
      ]
     },
     "metadata": {},
     "output_type": "display_data"
    }
   ],
   "source": [
    "# Plot the total value of the member's portfolio (crypto and stock/bond) in a pie chart\n",
    "savings_df.plot(kind=\"pie\",y='amount', figsize=(7,7), title= \"Total balance of Portfolio\")\n"
   ]
  },
  {
   "cell_type": "markdown",
   "metadata": {},
   "source": [
    "#### Step 4: Using Python, determine if the current portfolio has enough to create an emergency fund as part of the member’s financial plan. Ideally, an emergency fund should equal to three times the member’s monthly income. To do this, implement the following steps:\n",
    "\n",
    "Step 1. Create a variable named `emergency_fund_value`, and set it equal to three times the value of the member’s `monthly_income` of 12000. (You set this earlier in Part 1).\n",
    "\n",
    "Step 2. Create a series of three if statements to determine if the member’s total portfolio is large enough to fund the emergency portfolio:\n",
    "\n",
    "* If the total portfolio value is greater than the emergency fund value, display a message congratulating the member for having enough money in this fund.\n",
    "\n",
    "* Else if the total portfolio value is equal to the emergency fund value, display a message congratulating the member on reaching this important financial goal.\n",
    "\n",
    "* Else the total portfolio is less than the emergency fund value, so display a message showing how many dollars away the member is from reaching the goal. (Subtract the total portfolio value from the emergency fund value.)\n"
   ]
  },
  {
   "cell_type": "markdown",
   "metadata": {},
   "source": [
    "##### Step 4-1: Create a variable named `emergency_fund_value`, and set it equal to three times the value of the member’s `monthly_income` of 12000. (You set this earlier in Part 1)."
   ]
  },
  {
   "cell_type": "code",
   "execution_count": 69,
   "metadata": {},
   "outputs": [
    {
     "data": {
      "text/plain": [
       "36000"
      ]
     },
     "execution_count": 69,
     "metadata": {},
     "output_type": "execute_result"
    }
   ],
   "source": [
    "# Create a variable named emergency_fund_value\n",
    "emergency_fund_value = monthly_income*3\n",
    "emergency_fund_value"
   ]
  },
  {
   "cell_type": "markdown",
   "metadata": {},
   "source": [
    "##### Step 4-2: Create a series of three if statements to determine if the member’s total portfolio is large enough to fund the emergency portfolio:\n",
    "\n",
    "* If the total portfolio value is greater than the emergency fund value, display a message congratulating the member for having enough money in this fund.\n",
    "\n",
    "* Else if the total portfolio value is equal to the emergency fund value, display a message congratulating the member on reaching this important financial goal.\n",
    "\n",
    "* Else the total portfolio is less than the emergency fund value, so display a message showing how many dollars away the member is from reaching the goal. (Subtract the total portfolio value from the emergency fund value.)"
   ]
  },
  {
   "cell_type": "code",
   "execution_count": 74,
   "metadata": {},
   "outputs": [
    {
     "name": "stdout",
     "output_type": "stream",
     "text": [
      "You have more enough in emergency fund\n"
     ]
    }
   ],
   "source": [
    "# Evaluate the possibility of creating an emergency fund with 3 conditions:\n",
    "if total_portfolio > emergency_fund_value:\n",
    "    print('You have more enough in emergency fund')\n",
    "elif total_portfolio==emergency_fund_value:\n",
    "    print('You have just enough in emergency fund')\n",
    "else:\n",
    "    print('You should consider saving more into your emergency fund')\n",
    "          \n"
   ]
  },
  {
   "cell_type": "markdown",
   "metadata": {},
   "source": [
    "## Part 2: Create a Financial Planner for Retirement"
   ]
  },
  {
   "cell_type": "markdown",
   "metadata": {},
   "source": [
    "### Create the Monte Carlo Simulation\n",
    "\n",
    "In this section, you’ll use the MCForecastTools library to create a Monte Carlo simulation for the member’s savings portfolio. To do this, complete the following steps:\n",
    "\n",
    "1. Make an API call via the Alpaca SDK to get 3 years of historical closing prices for a traditional 60/40 portfolio split: 60% stocks (SPY) and 40% bonds (AGG).\n",
    "\n",
    "2. Run a Monte Carlo simulation of 500 samples and 30 years for the 60/40 portfolio, and then plot the results.The following image shows the overlay line plot resulting from a simulation with these characteristics. However, because a random number generator is used to run each live Monte Carlo simulation, your image will differ slightly from this exact image:\n",
    "\n",
    "![A screenshot depicts the resulting plot.](Images/5-4-monte-carlo-line-plot.png)\n",
    "\n",
    "3. Plot the probability distribution of the Monte Carlo simulation. Plot the probability distribution of the Monte Carlo simulation. The following image shows the histogram plot resulting from a simulation with these characteristics. However, because a random number generator is used to run each live Monte Carlo simulation, your image will differ slightly from this exact image:\n",
    "\n",
    "![A screenshot depicts the histogram plot.](Images/5-4-monte-carlo-histogram.png)\n",
    "\n",
    "4. Generate the summary statistics for the Monte Carlo simulation.\n",
    "\n"
   ]
  },
  {
   "cell_type": "markdown",
   "metadata": {},
   "source": [
    "#### Step 1: Make an API call via the Alpaca SDK to get 3 years of historical closing prices for a traditional 60/40 portfolio split: 60% stocks (SPY) and 40% bonds (AGG)."
   ]
  },
  {
   "cell_type": "code",
   "execution_count": 75,
   "metadata": {},
   "outputs": [],
   "source": [
    "# Set start and end dates of 3 years back from your current date\n",
    "# Alternatively, you can use an end date of 2020-08-07 and work 3 years back from that date \n",
    "start_date = pd.Timestamp('2019-06-07',tz='America/New_York').isoformat()\n",
    "end_date = pd.Timestamp('2022-06-07',tz='America/New_York').isoformat()\n",
    "# Set number of rows to 1000 to retrieve the maximum amount of rows\n",
    "limit = 1000"
   ]
  },
  {
   "cell_type": "code",
   "execution_count": 78,
   "metadata": {},
   "outputs": [
    {
     "data": {
      "text/html": [
       "<div>\n",
       "<style scoped>\n",
       "    .dataframe tbody tr th:only-of-type {\n",
       "        vertical-align: middle;\n",
       "    }\n",
       "\n",
       "    .dataframe tbody tr th {\n",
       "        vertical-align: top;\n",
       "    }\n",
       "\n",
       "    .dataframe thead tr th {\n",
       "        text-align: left;\n",
       "    }\n",
       "\n",
       "    .dataframe thead tr:last-of-type th {\n",
       "        text-align: right;\n",
       "    }\n",
       "</style>\n",
       "<table border=\"1\" class=\"dataframe\">\n",
       "  <thead>\n",
       "    <tr>\n",
       "      <th></th>\n",
       "      <th colspan=\"7\" halign=\"left\">AGG</th>\n",
       "      <th colspan=\"7\" halign=\"left\">SPY</th>\n",
       "    </tr>\n",
       "    <tr>\n",
       "      <th></th>\n",
       "      <th>open</th>\n",
       "      <th>high</th>\n",
       "      <th>low</th>\n",
       "      <th>close</th>\n",
       "      <th>volume</th>\n",
       "      <th>trade_count</th>\n",
       "      <th>vwap</th>\n",
       "      <th>open</th>\n",
       "      <th>high</th>\n",
       "      <th>low</th>\n",
       "      <th>close</th>\n",
       "      <th>volume</th>\n",
       "      <th>trade_count</th>\n",
       "      <th>vwap</th>\n",
       "    </tr>\n",
       "    <tr>\n",
       "      <th>timestamp</th>\n",
       "      <th></th>\n",
       "      <th></th>\n",
       "      <th></th>\n",
       "      <th></th>\n",
       "      <th></th>\n",
       "      <th></th>\n",
       "      <th></th>\n",
       "      <th></th>\n",
       "      <th></th>\n",
       "      <th></th>\n",
       "      <th></th>\n",
       "      <th></th>\n",
       "      <th></th>\n",
       "      <th></th>\n",
       "    </tr>\n",
       "  </thead>\n",
       "  <tbody>\n",
       "    <tr>\n",
       "      <th>2022-06-01 04:00:00+00:00</th>\n",
       "      <td>103.39</td>\n",
       "      <td>103.525</td>\n",
       "      <td>102.75</td>\n",
       "      <td>102.86</td>\n",
       "      <td>8050247</td>\n",
       "      <td>29175</td>\n",
       "      <td>102.948426</td>\n",
       "      <td>415.20</td>\n",
       "      <td>416.240</td>\n",
       "      <td>406.9300</td>\n",
       "      <td>409.59</td>\n",
       "      <td>86017100</td>\n",
       "      <td>693194</td>\n",
       "      <td>410.787476</td>\n",
       "    </tr>\n",
       "    <tr>\n",
       "      <th>2022-06-02 04:00:00+00:00</th>\n",
       "      <td>103.06</td>\n",
       "      <td>103.090</td>\n",
       "      <td>102.73</td>\n",
       "      <td>102.99</td>\n",
       "      <td>7456895</td>\n",
       "      <td>26332</td>\n",
       "      <td>102.955236</td>\n",
       "      <td>409.50</td>\n",
       "      <td>417.440</td>\n",
       "      <td>407.0400</td>\n",
       "      <td>417.34</td>\n",
       "      <td>79929693</td>\n",
       "      <td>616256</td>\n",
       "      <td>413.345011</td>\n",
       "    </tr>\n",
       "    <tr>\n",
       "      <th>2022-06-03 04:00:00+00:00</th>\n",
       "      <td>102.67</td>\n",
       "      <td>102.905</td>\n",
       "      <td>102.64</td>\n",
       "      <td>102.82</td>\n",
       "      <td>6561090</td>\n",
       "      <td>19041</td>\n",
       "      <td>102.803378</td>\n",
       "      <td>412.41</td>\n",
       "      <td>414.040</td>\n",
       "      <td>409.5100</td>\n",
       "      <td>410.61</td>\n",
       "      <td>71994109</td>\n",
       "      <td>577282</td>\n",
       "      <td>411.857196</td>\n",
       "    </tr>\n",
       "    <tr>\n",
       "      <th>2022-06-06 04:00:00+00:00</th>\n",
       "      <td>102.67</td>\n",
       "      <td>102.770</td>\n",
       "      <td>102.16</td>\n",
       "      <td>102.19</td>\n",
       "      <td>5143230</td>\n",
       "      <td>16946</td>\n",
       "      <td>102.296385</td>\n",
       "      <td>414.76</td>\n",
       "      <td>416.609</td>\n",
       "      <td>410.5523</td>\n",
       "      <td>411.79</td>\n",
       "      <td>56928037</td>\n",
       "      <td>469357</td>\n",
       "      <td>413.055176</td>\n",
       "    </tr>\n",
       "    <tr>\n",
       "      <th>2022-06-07 04:00:00+00:00</th>\n",
       "      <td>102.42</td>\n",
       "      <td>102.760</td>\n",
       "      <td>102.40</td>\n",
       "      <td>102.58</td>\n",
       "      <td>5466862</td>\n",
       "      <td>19386</td>\n",
       "      <td>102.607676</td>\n",
       "      <td>408.13</td>\n",
       "      <td>416.220</td>\n",
       "      <td>407.6100</td>\n",
       "      <td>415.74</td>\n",
       "      <td>57844987</td>\n",
       "      <td>479379</td>\n",
       "      <td>412.931894</td>\n",
       "    </tr>\n",
       "  </tbody>\n",
       "</table>\n",
       "</div>"
      ],
      "text/plain": [
       "                              AGG                                    \\\n",
       "                             open     high     low   close   volume   \n",
       "timestamp                                                             \n",
       "2022-06-01 04:00:00+00:00  103.39  103.525  102.75  102.86  8050247   \n",
       "2022-06-02 04:00:00+00:00  103.06  103.090  102.73  102.99  7456895   \n",
       "2022-06-03 04:00:00+00:00  102.67  102.905  102.64  102.82  6561090   \n",
       "2022-06-06 04:00:00+00:00  102.67  102.770  102.16  102.19  5143230   \n",
       "2022-06-07 04:00:00+00:00  102.42  102.760  102.40  102.58  5466862   \n",
       "\n",
       "                                                      SPY                     \\\n",
       "                          trade_count        vwap    open     high       low   \n",
       "timestamp                                                                      \n",
       "2022-06-01 04:00:00+00:00       29175  102.948426  415.20  416.240  406.9300   \n",
       "2022-06-02 04:00:00+00:00       26332  102.955236  409.50  417.440  407.0400   \n",
       "2022-06-03 04:00:00+00:00       19041  102.803378  412.41  414.040  409.5100   \n",
       "2022-06-06 04:00:00+00:00       16946  102.296385  414.76  416.609  410.5523   \n",
       "2022-06-07 04:00:00+00:00       19386  102.607676  408.13  416.220  407.6100   \n",
       "\n",
       "                                                                     \n",
       "                            close    volume trade_count        vwap  \n",
       "timestamp                                                            \n",
       "2022-06-01 04:00:00+00:00  409.59  86017100      693194  410.787476  \n",
       "2022-06-02 04:00:00+00:00  417.34  79929693      616256  413.345011  \n",
       "2022-06-03 04:00:00+00:00  410.61  71994109      577282  411.857196  \n",
       "2022-06-06 04:00:00+00:00  411.79  56928037      469357  413.055176  \n",
       "2022-06-07 04:00:00+00:00  415.74  57844987      479379  412.931894  "
      ]
     },
     "execution_count": 78,
     "metadata": {},
     "output_type": "execute_result"
    }
   ],
   "source": [
    "# Use the Alpaca get_bars function to make the API call to get the 3 years worth of pricing data\n",
    "# The tickers and timeframe parameters should have been set in Part 1 of this activity \n",
    "# The start and end dates should be updated with the information set above\n",
    "# Remember to add the df property to the end of the call so the response is returned as a DataFrame\n",
    "three_year_pricing_df = alp_api.get_bars(\n",
    "    tickers,\n",
    "    TimeFrame,\n",
    "    start = start_date,\n",
    "    end = end_date,\n",
    ").df\n",
    "\n",
    "# Reorganize the DataFrame\n",
    "agg_three_year = three_year_pricing_df[three_year_pricing_df['symbol']=='AGG'].drop('symbol',axis=1)\n",
    "spy_three_year = three_year_pricing_df[three_year_pricing_df['symbol']=='SPY'].drop('symbol',axis=1)\n",
    "\n",
    "# Concatenate the ticker DataFrames\n",
    "three_year_pricing_df = pd.concat([agg_three_year,spy_three_year], axis=1, keys=[\"AGG\",\"SPY\"])\n",
    "\n",
    "# Display both the first and last five rows of the DataFrame\n",
    "three_year_pricing_df.head()\n",
    "three_year_pricing_df.tail()\n"
   ]
  },
  {
   "cell_type": "markdown",
   "metadata": {},
   "source": [
    "#### Step 2: Run a Monte Carlo simulation of 500 samples and 30 years for the 60/40 portfolio, and then plot the results."
   ]
  },
  {
   "cell_type": "code",
   "execution_count": 82,
   "metadata": {},
   "outputs": [
    {
     "data": {
      "text/html": [
       "<div>\n",
       "<style scoped>\n",
       "    .dataframe tbody tr th:only-of-type {\n",
       "        vertical-align: middle;\n",
       "    }\n",
       "\n",
       "    .dataframe tbody tr th {\n",
       "        vertical-align: top;\n",
       "    }\n",
       "\n",
       "    .dataframe thead tr th {\n",
       "        text-align: left;\n",
       "    }\n",
       "\n",
       "    .dataframe thead tr:last-of-type th {\n",
       "        text-align: right;\n",
       "    }\n",
       "</style>\n",
       "<table border=\"1\" class=\"dataframe\">\n",
       "  <thead>\n",
       "    <tr>\n",
       "      <th></th>\n",
       "      <th colspan=\"8\" halign=\"left\">AGG</th>\n",
       "      <th colspan=\"8\" halign=\"left\">SPY</th>\n",
       "    </tr>\n",
       "    <tr>\n",
       "      <th></th>\n",
       "      <th>open</th>\n",
       "      <th>high</th>\n",
       "      <th>low</th>\n",
       "      <th>close</th>\n",
       "      <th>volume</th>\n",
       "      <th>trade_count</th>\n",
       "      <th>vwap</th>\n",
       "      <th>daily_return</th>\n",
       "      <th>open</th>\n",
       "      <th>high</th>\n",
       "      <th>low</th>\n",
       "      <th>close</th>\n",
       "      <th>volume</th>\n",
       "      <th>trade_count</th>\n",
       "      <th>vwap</th>\n",
       "      <th>daily_return</th>\n",
       "    </tr>\n",
       "    <tr>\n",
       "      <th>timestamp</th>\n",
       "      <th></th>\n",
       "      <th></th>\n",
       "      <th></th>\n",
       "      <th></th>\n",
       "      <th></th>\n",
       "      <th></th>\n",
       "      <th></th>\n",
       "      <th></th>\n",
       "      <th></th>\n",
       "      <th></th>\n",
       "      <th></th>\n",
       "      <th></th>\n",
       "      <th></th>\n",
       "      <th></th>\n",
       "      <th></th>\n",
       "      <th></th>\n",
       "    </tr>\n",
       "  </thead>\n",
       "  <tbody>\n",
       "    <tr>\n",
       "      <th>2019-06-07 04:00:00+00:00</th>\n",
       "      <td>110.64</td>\n",
       "      <td>110.67</td>\n",
       "      <td>110.45</td>\n",
       "      <td>110.53</td>\n",
       "      <td>3697054</td>\n",
       "      <td>12233</td>\n",
       "      <td>110.530069</td>\n",
       "      <td>NaN</td>\n",
       "      <td>285.95</td>\n",
       "      <td>288.85</td>\n",
       "      <td>285.7400</td>\n",
       "      <td>287.65</td>\n",
       "      <td>74283295</td>\n",
       "      <td>337830</td>\n",
       "      <td>287.477283</td>\n",
       "      <td>NaN</td>\n",
       "    </tr>\n",
       "    <tr>\n",
       "      <th>2019-06-10 04:00:00+00:00</th>\n",
       "      <td>110.36</td>\n",
       "      <td>110.36</td>\n",
       "      <td>110.22</td>\n",
       "      <td>110.24</td>\n",
       "      <td>3993154</td>\n",
       "      <td>13486</td>\n",
       "      <td>110.272514</td>\n",
       "      <td>-0.002624</td>\n",
       "      <td>289.35</td>\n",
       "      <td>290.82</td>\n",
       "      <td>288.8734</td>\n",
       "      <td>288.97</td>\n",
       "      <td>60804701</td>\n",
       "      <td>298335</td>\n",
       "      <td>289.569207</td>\n",
       "      <td>0.004589</td>\n",
       "    </tr>\n",
       "    <tr>\n",
       "      <th>2019-06-11 04:00:00+00:00</th>\n",
       "      <td>110.21</td>\n",
       "      <td>110.25</td>\n",
       "      <td>110.17</td>\n",
       "      <td>110.22</td>\n",
       "      <td>4374559</td>\n",
       "      <td>13157</td>\n",
       "      <td>110.208544</td>\n",
       "      <td>-0.000181</td>\n",
       "      <td>290.95</td>\n",
       "      <td>291.40</td>\n",
       "      <td>288.1805</td>\n",
       "      <td>288.90</td>\n",
       "      <td>58696425</td>\n",
       "      <td>280368</td>\n",
       "      <td>289.403789</td>\n",
       "      <td>-0.000242</td>\n",
       "    </tr>\n",
       "    <tr>\n",
       "      <th>2019-06-12 04:00:00+00:00</th>\n",
       "      <td>110.28</td>\n",
       "      <td>110.41</td>\n",
       "      <td>110.26</td>\n",
       "      <td>110.36</td>\n",
       "      <td>2797629</td>\n",
       "      <td>10924</td>\n",
       "      <td>110.362100</td>\n",
       "      <td>0.001270</td>\n",
       "      <td>288.64</td>\n",
       "      <td>289.26</td>\n",
       "      <td>287.8150</td>\n",
       "      <td>288.39</td>\n",
       "      <td>47384212</td>\n",
       "      <td>206507</td>\n",
       "      <td>288.410265</td>\n",
       "      <td>-0.001765</td>\n",
       "    </tr>\n",
       "    <tr>\n",
       "      <th>2019-06-13 04:00:00+00:00</th>\n",
       "      <td>110.43</td>\n",
       "      <td>110.62</td>\n",
       "      <td>110.40</td>\n",
       "      <td>110.60</td>\n",
       "      <td>2371804</td>\n",
       "      <td>9691</td>\n",
       "      <td>110.549637</td>\n",
       "      <td>0.002175</td>\n",
       "      <td>289.37</td>\n",
       "      <td>289.98</td>\n",
       "      <td>288.6200</td>\n",
       "      <td>289.58</td>\n",
       "      <td>48958001</td>\n",
       "      <td>227007</td>\n",
       "      <td>289.222177</td>\n",
       "      <td>0.004126</td>\n",
       "    </tr>\n",
       "  </tbody>\n",
       "</table>\n",
       "</div>"
      ],
      "text/plain": [
       "                              AGG                                   \\\n",
       "                             open    high     low   close   volume   \n",
       "timestamp                                                            \n",
       "2019-06-07 04:00:00+00:00  110.64  110.67  110.45  110.53  3697054   \n",
       "2019-06-10 04:00:00+00:00  110.36  110.36  110.22  110.24  3993154   \n",
       "2019-06-11 04:00:00+00:00  110.21  110.25  110.17  110.22  4374559   \n",
       "2019-06-12 04:00:00+00:00  110.28  110.41  110.26  110.36  2797629   \n",
       "2019-06-13 04:00:00+00:00  110.43  110.62  110.40  110.60  2371804   \n",
       "\n",
       "                                                                   SPY  \\\n",
       "                          trade_count        vwap daily_return    open   \n",
       "timestamp                                                                \n",
       "2019-06-07 04:00:00+00:00       12233  110.530069          NaN  285.95   \n",
       "2019-06-10 04:00:00+00:00       13486  110.272514    -0.002624  289.35   \n",
       "2019-06-11 04:00:00+00:00       13157  110.208544    -0.000181  290.95   \n",
       "2019-06-12 04:00:00+00:00       10924  110.362100     0.001270  288.64   \n",
       "2019-06-13 04:00:00+00:00        9691  110.549637     0.002175  289.37   \n",
       "\n",
       "                                                                           \\\n",
       "                             high       low   close    volume trade_count   \n",
       "timestamp                                                                   \n",
       "2019-06-07 04:00:00+00:00  288.85  285.7400  287.65  74283295      337830   \n",
       "2019-06-10 04:00:00+00:00  290.82  288.8734  288.97  60804701      298335   \n",
       "2019-06-11 04:00:00+00:00  291.40  288.1805  288.90  58696425      280368   \n",
       "2019-06-12 04:00:00+00:00  289.26  287.8150  288.39  47384212      206507   \n",
       "2019-06-13 04:00:00+00:00  289.98  288.6200  289.58  48958001      227007   \n",
       "\n",
       "                                                    \n",
       "                                 vwap daily_return  \n",
       "timestamp                                           \n",
       "2019-06-07 04:00:00+00:00  287.477283          NaN  \n",
       "2019-06-10 04:00:00+00:00  289.569207     0.004589  \n",
       "2019-06-11 04:00:00+00:00  289.403789    -0.000242  \n",
       "2019-06-12 04:00:00+00:00  288.410265    -0.001765  \n",
       "2019-06-13 04:00:00+00:00  289.222177     0.004126  "
      ]
     },
     "execution_count": 82,
     "metadata": {},
     "output_type": "execute_result"
    }
   ],
   "source": [
    "# Configure the Monte Carlo simulation to forecast 30 years cumulative returns\n",
    "# The weights should be split 40% to AGG and 60% to SPY.\n",
    "# Run 500 samples.\n",
    "MC_30 = MCSimulation(\n",
    "    portfolio_data= three_year_pricing_df,\n",
    "    weights=[.40,.60],\n",
    "    num_simulation=500,\n",
    "    num_trading_days=252 * 30\n",
    ")\n",
    "\n",
    "# Review the simulation input data\n",
    "MC_30.portfolio_data.head()\n"
   ]
  },
  {
   "cell_type": "code",
   "execution_count": 84,
   "metadata": {},
   "outputs": [
    {
     "name": "stdout",
     "output_type": "stream",
     "text": [
      "Running Monte Carlo simulation number 0.\n",
      "Running Monte Carlo simulation number 10.\n",
      "Running Monte Carlo simulation number 20.\n",
      "Running Monte Carlo simulation number 30.\n",
      "Running Monte Carlo simulation number 40.\n",
      "Running Monte Carlo simulation number 50.\n",
      "Running Monte Carlo simulation number 60.\n",
      "Running Monte Carlo simulation number 70.\n",
      "Running Monte Carlo simulation number 80.\n",
      "Running Monte Carlo simulation number 90.\n",
      "Running Monte Carlo simulation number 100.\n"
     ]
    },
    {
     "name": "stderr",
     "output_type": "stream",
     "text": [
      "C:\\Users\\jarre\\OneDrive\\FinTech BootCamp Files\\Challenge_5\\Starter_Code\\MCForecastTools.py:117: PerformanceWarning: DataFrame is highly fragmented.  This is usually the result of calling `frame.insert` many times, which has poor performance.  Consider joining all columns at once using pd.concat(axis=1) instead.  To get a de-fragmented frame, use `newframe = frame.copy()`\n",
      "  portfolio_cumulative_returns[n] = (1 + sim_df.fillna(0)).cumprod()\n"
     ]
    },
    {
     "name": "stdout",
     "output_type": "stream",
     "text": [
      "Running Monte Carlo simulation number 110.\n",
      "Running Monte Carlo simulation number 120.\n",
      "Running Monte Carlo simulation number 130.\n",
      "Running Monte Carlo simulation number 140.\n",
      "Running Monte Carlo simulation number 150.\n",
      "Running Monte Carlo simulation number 160.\n",
      "Running Monte Carlo simulation number 170.\n",
      "Running Monte Carlo simulation number 180.\n",
      "Running Monte Carlo simulation number 190.\n",
      "Running Monte Carlo simulation number 200.\n",
      "Running Monte Carlo simulation number 210.\n",
      "Running Monte Carlo simulation number 220.\n",
      "Running Monte Carlo simulation number 230.\n",
      "Running Monte Carlo simulation number 240.\n",
      "Running Monte Carlo simulation number 250.\n",
      "Running Monte Carlo simulation number 260.\n",
      "Running Monte Carlo simulation number 270.\n",
      "Running Monte Carlo simulation number 280.\n",
      "Running Monte Carlo simulation number 290.\n",
      "Running Monte Carlo simulation number 300.\n",
      "Running Monte Carlo simulation number 310.\n",
      "Running Monte Carlo simulation number 320.\n",
      "Running Monte Carlo simulation number 330.\n",
      "Running Monte Carlo simulation number 340.\n",
      "Running Monte Carlo simulation number 350.\n",
      "Running Monte Carlo simulation number 360.\n",
      "Running Monte Carlo simulation number 370.\n",
      "Running Monte Carlo simulation number 380.\n",
      "Running Monte Carlo simulation number 390.\n",
      "Running Monte Carlo simulation number 400.\n",
      "Running Monte Carlo simulation number 410.\n",
      "Running Monte Carlo simulation number 420.\n",
      "Running Monte Carlo simulation number 430.\n",
      "Running Monte Carlo simulation number 440.\n",
      "Running Monte Carlo simulation number 450.\n",
      "Running Monte Carlo simulation number 460.\n",
      "Running Monte Carlo simulation number 470.\n",
      "Running Monte Carlo simulation number 480.\n",
      "Running Monte Carlo simulation number 490.\n"
     ]
    },
    {
     "data": {
      "text/html": [
       "<div>\n",
       "<style scoped>\n",
       "    .dataframe tbody tr th:only-of-type {\n",
       "        vertical-align: middle;\n",
       "    }\n",
       "\n",
       "    .dataframe tbody tr th {\n",
       "        vertical-align: top;\n",
       "    }\n",
       "\n",
       "    .dataframe thead th {\n",
       "        text-align: right;\n",
       "    }\n",
       "</style>\n",
       "<table border=\"1\" class=\"dataframe\">\n",
       "  <thead>\n",
       "    <tr style=\"text-align: right;\">\n",
       "      <th></th>\n",
       "      <th>0</th>\n",
       "      <th>1</th>\n",
       "      <th>2</th>\n",
       "      <th>3</th>\n",
       "      <th>4</th>\n",
       "      <th>5</th>\n",
       "      <th>6</th>\n",
       "      <th>7</th>\n",
       "      <th>8</th>\n",
       "      <th>9</th>\n",
       "      <th>...</th>\n",
       "      <th>490</th>\n",
       "      <th>491</th>\n",
       "      <th>492</th>\n",
       "      <th>493</th>\n",
       "      <th>494</th>\n",
       "      <th>495</th>\n",
       "      <th>496</th>\n",
       "      <th>497</th>\n",
       "      <th>498</th>\n",
       "      <th>499</th>\n",
       "    </tr>\n",
       "  </thead>\n",
       "  <tbody>\n",
       "    <tr>\n",
       "      <th>0</th>\n",
       "      <td>1.000000</td>\n",
       "      <td>1.000000</td>\n",
       "      <td>1.000000</td>\n",
       "      <td>1.000000</td>\n",
       "      <td>1.000000</td>\n",
       "      <td>1.000000</td>\n",
       "      <td>1.000000</td>\n",
       "      <td>1.000000</td>\n",
       "      <td>1.000000</td>\n",
       "      <td>1.000000</td>\n",
       "      <td>...</td>\n",
       "      <td>1.000000</td>\n",
       "      <td>1.000000</td>\n",
       "      <td>1.000000</td>\n",
       "      <td>1.000000</td>\n",
       "      <td>1.000000</td>\n",
       "      <td>1.000000</td>\n",
       "      <td>1.000000</td>\n",
       "      <td>1.000000</td>\n",
       "      <td>1.000000</td>\n",
       "      <td>1.000000</td>\n",
       "    </tr>\n",
       "    <tr>\n",
       "      <th>1</th>\n",
       "      <td>0.996250</td>\n",
       "      <td>0.978170</td>\n",
       "      <td>1.007322</td>\n",
       "      <td>1.001065</td>\n",
       "      <td>1.011750</td>\n",
       "      <td>0.991169</td>\n",
       "      <td>1.001834</td>\n",
       "      <td>1.011597</td>\n",
       "      <td>0.994919</td>\n",
       "      <td>1.009944</td>\n",
       "      <td>...</td>\n",
       "      <td>0.989865</td>\n",
       "      <td>0.988991</td>\n",
       "      <td>1.011809</td>\n",
       "      <td>0.998940</td>\n",
       "      <td>1.004096</td>\n",
       "      <td>0.991808</td>\n",
       "      <td>0.999388</td>\n",
       "      <td>1.002963</td>\n",
       "      <td>0.998522</td>\n",
       "      <td>1.000766</td>\n",
       "    </tr>\n",
       "    <tr>\n",
       "      <th>2</th>\n",
       "      <td>0.974406</td>\n",
       "      <td>0.973909</td>\n",
       "      <td>0.993903</td>\n",
       "      <td>1.012005</td>\n",
       "      <td>1.015566</td>\n",
       "      <td>0.991814</td>\n",
       "      <td>1.005894</td>\n",
       "      <td>1.008840</td>\n",
       "      <td>1.007070</td>\n",
       "      <td>1.014500</td>\n",
       "      <td>...</td>\n",
       "      <td>0.990722</td>\n",
       "      <td>0.982581</td>\n",
       "      <td>1.020252</td>\n",
       "      <td>0.992511</td>\n",
       "      <td>1.000994</td>\n",
       "      <td>0.986240</td>\n",
       "      <td>1.004263</td>\n",
       "      <td>0.992274</td>\n",
       "      <td>0.999824</td>\n",
       "      <td>0.997981</td>\n",
       "    </tr>\n",
       "    <tr>\n",
       "      <th>3</th>\n",
       "      <td>0.962565</td>\n",
       "      <td>0.966284</td>\n",
       "      <td>0.987856</td>\n",
       "      <td>1.004766</td>\n",
       "      <td>1.024618</td>\n",
       "      <td>0.983385</td>\n",
       "      <td>1.006166</td>\n",
       "      <td>1.013245</td>\n",
       "      <td>1.004241</td>\n",
       "      <td>1.018418</td>\n",
       "      <td>...</td>\n",
       "      <td>0.989509</td>\n",
       "      <td>0.981354</td>\n",
       "      <td>1.030840</td>\n",
       "      <td>0.984010</td>\n",
       "      <td>1.013605</td>\n",
       "      <td>0.982521</td>\n",
       "      <td>1.016379</td>\n",
       "      <td>1.006105</td>\n",
       "      <td>0.998422</td>\n",
       "      <td>0.988411</td>\n",
       "    </tr>\n",
       "    <tr>\n",
       "      <th>4</th>\n",
       "      <td>0.951478</td>\n",
       "      <td>0.965705</td>\n",
       "      <td>0.979649</td>\n",
       "      <td>1.011729</td>\n",
       "      <td>1.035831</td>\n",
       "      <td>0.983095</td>\n",
       "      <td>0.989846</td>\n",
       "      <td>1.022310</td>\n",
       "      <td>1.013889</td>\n",
       "      <td>1.026901</td>\n",
       "      <td>...</td>\n",
       "      <td>0.973520</td>\n",
       "      <td>0.989372</td>\n",
       "      <td>1.040195</td>\n",
       "      <td>0.983843</td>\n",
       "      <td>0.996495</td>\n",
       "      <td>0.983737</td>\n",
       "      <td>1.009533</td>\n",
       "      <td>0.998691</td>\n",
       "      <td>1.002191</td>\n",
       "      <td>0.986879</td>\n",
       "    </tr>\n",
       "    <tr>\n",
       "      <th>...</th>\n",
       "      <td>...</td>\n",
       "      <td>...</td>\n",
       "      <td>...</td>\n",
       "      <td>...</td>\n",
       "      <td>...</td>\n",
       "      <td>...</td>\n",
       "      <td>...</td>\n",
       "      <td>...</td>\n",
       "      <td>...</td>\n",
       "      <td>...</td>\n",
       "      <td>...</td>\n",
       "      <td>...</td>\n",
       "      <td>...</td>\n",
       "      <td>...</td>\n",
       "      <td>...</td>\n",
       "      <td>...</td>\n",
       "      <td>...</td>\n",
       "      <td>...</td>\n",
       "      <td>...</td>\n",
       "      <td>...</td>\n",
       "      <td>...</td>\n",
       "    </tr>\n",
       "    <tr>\n",
       "      <th>7556</th>\n",
       "      <td>4.516425</td>\n",
       "      <td>4.180503</td>\n",
       "      <td>34.681645</td>\n",
       "      <td>13.108818</td>\n",
       "      <td>13.639267</td>\n",
       "      <td>9.684544</td>\n",
       "      <td>6.362554</td>\n",
       "      <td>6.848941</td>\n",
       "      <td>6.884210</td>\n",
       "      <td>11.104917</td>\n",
       "      <td>...</td>\n",
       "      <td>8.570444</td>\n",
       "      <td>9.539813</td>\n",
       "      <td>30.517781</td>\n",
       "      <td>14.421184</td>\n",
       "      <td>10.506152</td>\n",
       "      <td>11.676646</td>\n",
       "      <td>5.088504</td>\n",
       "      <td>32.668304</td>\n",
       "      <td>9.744216</td>\n",
       "      <td>16.893130</td>\n",
       "    </tr>\n",
       "    <tr>\n",
       "      <th>7557</th>\n",
       "      <td>4.500592</td>\n",
       "      <td>4.143517</td>\n",
       "      <td>34.431023</td>\n",
       "      <td>13.124216</td>\n",
       "      <td>13.758266</td>\n",
       "      <td>9.677692</td>\n",
       "      <td>6.419771</td>\n",
       "      <td>6.863861</td>\n",
       "      <td>6.933439</td>\n",
       "      <td>11.070657</td>\n",
       "      <td>...</td>\n",
       "      <td>8.615561</td>\n",
       "      <td>9.560286</td>\n",
       "      <td>30.468212</td>\n",
       "      <td>14.185333</td>\n",
       "      <td>10.591455</td>\n",
       "      <td>11.612868</td>\n",
       "      <td>5.100264</td>\n",
       "      <td>32.411000</td>\n",
       "      <td>9.813255</td>\n",
       "      <td>16.820165</td>\n",
       "    </tr>\n",
       "    <tr>\n",
       "      <th>7558</th>\n",
       "      <td>4.454270</td>\n",
       "      <td>4.241191</td>\n",
       "      <td>34.684371</td>\n",
       "      <td>13.257473</td>\n",
       "      <td>13.799088</td>\n",
       "      <td>9.757047</td>\n",
       "      <td>6.358481</td>\n",
       "      <td>6.840936</td>\n",
       "      <td>6.911599</td>\n",
       "      <td>10.951761</td>\n",
       "      <td>...</td>\n",
       "      <td>8.700068</td>\n",
       "      <td>9.583757</td>\n",
       "      <td>30.357711</td>\n",
       "      <td>14.009775</td>\n",
       "      <td>10.359704</td>\n",
       "      <td>11.598040</td>\n",
       "      <td>5.090491</td>\n",
       "      <td>32.363755</td>\n",
       "      <td>9.909518</td>\n",
       "      <td>16.900778</td>\n",
       "    </tr>\n",
       "    <tr>\n",
       "      <th>7559</th>\n",
       "      <td>4.428146</td>\n",
       "      <td>4.307411</td>\n",
       "      <td>34.004599</td>\n",
       "      <td>13.285211</td>\n",
       "      <td>13.744967</td>\n",
       "      <td>9.721924</td>\n",
       "      <td>6.317535</td>\n",
       "      <td>6.835238</td>\n",
       "      <td>6.979467</td>\n",
       "      <td>10.969641</td>\n",
       "      <td>...</td>\n",
       "      <td>8.607065</td>\n",
       "      <td>9.538215</td>\n",
       "      <td>30.250622</td>\n",
       "      <td>13.979263</td>\n",
       "      <td>10.323325</td>\n",
       "      <td>11.456929</td>\n",
       "      <td>5.127865</td>\n",
       "      <td>32.108433</td>\n",
       "      <td>9.796236</td>\n",
       "      <td>16.696361</td>\n",
       "    </tr>\n",
       "    <tr>\n",
       "      <th>7560</th>\n",
       "      <td>4.374730</td>\n",
       "      <td>4.361855</td>\n",
       "      <td>34.395519</td>\n",
       "      <td>13.387618</td>\n",
       "      <td>13.760643</td>\n",
       "      <td>9.785300</td>\n",
       "      <td>6.366804</td>\n",
       "      <td>6.848885</td>\n",
       "      <td>6.955240</td>\n",
       "      <td>10.982953</td>\n",
       "      <td>...</td>\n",
       "      <td>8.787677</td>\n",
       "      <td>9.623894</td>\n",
       "      <td>30.172578</td>\n",
       "      <td>14.061965</td>\n",
       "      <td>10.297115</td>\n",
       "      <td>11.355283</td>\n",
       "      <td>5.125195</td>\n",
       "      <td>31.509278</td>\n",
       "      <td>9.825604</td>\n",
       "      <td>16.445246</td>\n",
       "    </tr>\n",
       "  </tbody>\n",
       "</table>\n",
       "<p>7561 rows × 500 columns</p>\n",
       "</div>"
      ],
      "text/plain": [
       "           0         1          2          3          4         5         6    \\\n",
       "0     1.000000  1.000000   1.000000   1.000000   1.000000  1.000000  1.000000   \n",
       "1     0.996250  0.978170   1.007322   1.001065   1.011750  0.991169  1.001834   \n",
       "2     0.974406  0.973909   0.993903   1.012005   1.015566  0.991814  1.005894   \n",
       "3     0.962565  0.966284   0.987856   1.004766   1.024618  0.983385  1.006166   \n",
       "4     0.951478  0.965705   0.979649   1.011729   1.035831  0.983095  0.989846   \n",
       "...        ...       ...        ...        ...        ...       ...       ...   \n",
       "7556  4.516425  4.180503  34.681645  13.108818  13.639267  9.684544  6.362554   \n",
       "7557  4.500592  4.143517  34.431023  13.124216  13.758266  9.677692  6.419771   \n",
       "7558  4.454270  4.241191  34.684371  13.257473  13.799088  9.757047  6.358481   \n",
       "7559  4.428146  4.307411  34.004599  13.285211  13.744967  9.721924  6.317535   \n",
       "7560  4.374730  4.361855  34.395519  13.387618  13.760643  9.785300  6.366804   \n",
       "\n",
       "           7         8          9    ...       490       491        492  \\\n",
       "0     1.000000  1.000000   1.000000  ...  1.000000  1.000000   1.000000   \n",
       "1     1.011597  0.994919   1.009944  ...  0.989865  0.988991   1.011809   \n",
       "2     1.008840  1.007070   1.014500  ...  0.990722  0.982581   1.020252   \n",
       "3     1.013245  1.004241   1.018418  ...  0.989509  0.981354   1.030840   \n",
       "4     1.022310  1.013889   1.026901  ...  0.973520  0.989372   1.040195   \n",
       "...        ...       ...        ...  ...       ...       ...        ...   \n",
       "7556  6.848941  6.884210  11.104917  ...  8.570444  9.539813  30.517781   \n",
       "7557  6.863861  6.933439  11.070657  ...  8.615561  9.560286  30.468212   \n",
       "7558  6.840936  6.911599  10.951761  ...  8.700068  9.583757  30.357711   \n",
       "7559  6.835238  6.979467  10.969641  ...  8.607065  9.538215  30.250622   \n",
       "7560  6.848885  6.955240  10.982953  ...  8.787677  9.623894  30.172578   \n",
       "\n",
       "            493        494        495       496        497       498  \\\n",
       "0      1.000000   1.000000   1.000000  1.000000   1.000000  1.000000   \n",
       "1      0.998940   1.004096   0.991808  0.999388   1.002963  0.998522   \n",
       "2      0.992511   1.000994   0.986240  1.004263   0.992274  0.999824   \n",
       "3      0.984010   1.013605   0.982521  1.016379   1.006105  0.998422   \n",
       "4      0.983843   0.996495   0.983737  1.009533   0.998691  1.002191   \n",
       "...         ...        ...        ...       ...        ...       ...   \n",
       "7556  14.421184  10.506152  11.676646  5.088504  32.668304  9.744216   \n",
       "7557  14.185333  10.591455  11.612868  5.100264  32.411000  9.813255   \n",
       "7558  14.009775  10.359704  11.598040  5.090491  32.363755  9.909518   \n",
       "7559  13.979263  10.323325  11.456929  5.127865  32.108433  9.796236   \n",
       "7560  14.061965  10.297115  11.355283  5.125195  31.509278  9.825604   \n",
       "\n",
       "            499  \n",
       "0      1.000000  \n",
       "1      1.000766  \n",
       "2      0.997981  \n",
       "3      0.988411  \n",
       "4      0.986879  \n",
       "...         ...  \n",
       "7556  16.893130  \n",
       "7557  16.820165  \n",
       "7558  16.900778  \n",
       "7559  16.696361  \n",
       "7560  16.445246  \n",
       "\n",
       "[7561 rows x 500 columns]"
      ]
     },
     "execution_count": 84,
     "metadata": {},
     "output_type": "execute_result"
    }
   ],
   "source": [
    "# Run the Monte Carlo simulation to forecast 30 years cumulative returns\n",
    "MC_30.calc_cumulative_return()\n"
   ]
  },
  {
   "cell_type": "code",
   "execution_count": 85,
   "metadata": {},
   "outputs": [
    {
     "data": {
      "image/png": "[encoded data removed]",
      "text/plain": [
       "<Figure size 432x288 with 1 Axes>"
      ]
     },
     "metadata": {
      "needs_background": "light"
     },
     "output_type": "display_data"
    }
   ],
   "source": [
    "# Visualize the 30-year Monte Carlo simulation by creating an\n",
    "# overlay line plot\n",
    "MC_30_line_plot = MC_30.plot_simulation()\n"
   ]
  },
  {
   "cell_type": "markdown",
   "metadata": {},
   "source": [
    "#### Step 3: Plot the probability distribution of the Monte Carlo simulation."
   ]
  },
  {
   "cell_type": "code",
   "execution_count": 86,
   "metadata": {},
   "outputs": [
    {
     "data": {
      "image/png": "[encoded data removed]",
      "text/plain": [
       "<Figure size 432x288 with 1 Axes>"
      ]
     },
     "metadata": {
      "needs_background": "light"
     },
     "output_type": "display_data"
    }
   ],
   "source": [
    "# Visualize the probability distribution of the 30-year Monte Carlo simulation \n",
    "# by plotting a histogram\n",
    "MC_30_dist_plot = MC_30.plot_distribution()\n"
   ]
  },
  {
   "cell_type": "markdown",
   "metadata": {},
   "source": [
    "#### Step 4: Generate the summary statistics for the Monte Carlo simulation."
   ]
  },
  {
   "cell_type": "code",
   "execution_count": 90,
   "metadata": {},
   "outputs": [
    {
     "data": {
      "text/plain": [
       "count           500.000000\n",
       "mean             10.839045\n",
       "std              10.557228\n",
       "min               0.459344\n",
       "25%               4.423432\n",
       "50%               7.562197\n",
       "75%              13.494781\n",
       "max             106.322936\n",
       "95% CI Lower      1.785504\n",
       "95% CI Upper     37.935490\n",
       "Name: 7560, dtype: float64"
      ]
     },
     "execution_count": 90,
     "metadata": {},
     "output_type": "execute_result"
    }
   ],
   "source": [
    "# Generate summary statistics from the 30-year Monte Carlo simulation results\n",
    "# Save the results as a variable\n",
    "MC_Sum_stats = MC_30.summarize_cumulative_return()\n",
    "\n",
    "\n",
    "# Review the 30-year Monte Carlo summary statistics\n",
    "MC_Sum_stats"
   ]
  },
  {
   "cell_type": "markdown",
   "metadata": {},
   "source": [
    "### Analyze the Retirement Portfolio Forecasts\n",
    "\n",
    "Using the current value of only the stock and bond portion of the member's portfolio and the summary statistics that you generated from the Monte Carlo simulation, answer the following question in your Jupyter notebook:\n",
    "\n",
    "-  What are the lower and upper bounds for the expected value of the portfolio with a 95% confidence interval?\n"
   ]
  },
  {
   "cell_type": "code",
   "execution_count": 91,
   "metadata": {},
   "outputs": [
    {
     "name": "stdout",
     "output_type": "stream",
     "text": [
      "89656.9\n"
     ]
    }
   ],
   "source": [
    "# Print the current balance of the stock and bond portion of the members portfolio\n",
    "print(total_stocks_bonds)\n"
   ]
  },
  {
   "cell_type": "code",
   "execution_count": 93,
   "metadata": {},
   "outputs": [
    {
     "name": "stdout",
     "output_type": "stream",
     "text": [
      "There is a 95% chance that an initial investment of $89656.90 in the portfolio over the next year will end within the range of $160082.71 and $3401178.45.\n"
     ]
    }
   ],
   "source": [
    "# Use the lower and upper `95%` confidence intervals to calculate the range of the possible outcomes for the current stock/bond portfolio\n",
    "ci_lower_thirty_cumulative_return = (MC_Sum_stats[8]* total_stocks_bonds)\n",
    "ci_upper_thirty_cumulative_return = (MC_Sum_stats[9]* total_stocks_bonds)\n",
    "\n",
    "# Print the result of your calculations\n",
    "print(f\"There is a 95% chance that an initial investment of ${total_stocks_bonds:.2f} in the portfolio\"\n",
    "      f\" over the next year will end within the range of\"\n",
    "      f\" ${ci_lower_thirty_cumulative_return:.2f} and ${ci_upper_thirty_cumulative_return:.2f}.\")\n"
   ]
  },
  {
   "cell_type": "markdown",
   "metadata": {},
   "source": [
    "### Forecast Cumulative Returns in 10 Years\n",
    "\n",
    "The CTO of the credit union is impressed with your work on these planning tools but wonders if 30 years is a long time to wait until retirement. So, your next task is to adjust the retirement portfolio and run a new Monte Carlo simulation to find out if the changes will allow members to retire earlier.\n",
    "\n",
    "For this new Monte Carlo simulation, do the following: \n",
    "\n",
    "- Forecast the cumulative returns for 10 years from now. Because of the shortened investment horizon (30 years to 10 years), the portfolio needs to invest more heavily in the riskier asset&mdash;that is, stock&mdash;to help accumulate wealth for retirement. \n",
    "\n",
    "- Adjust the weights of the retirement portfolio so that the composition for the Monte Carlo simulation consists of 20% bonds and 80% stocks. \n",
    "\n",
    "- Run the simulation over 500 samples, and use the same data that the API call to Alpaca generated.\n",
    "\n",
    "- Based on the new Monte Carlo simulation, answer the following questions in your Jupyter notebook:\n",
    "\n",
    "    - Using the current value of only the stock and bond portion of the member's portfolio and the summary statistics that you generated from the new Monte Carlo simulation, what are the lower and upper bounds for the expected value of the portfolio (with the new weights) with a 95% confidence interval?\n",
    "\n",
    "    - Will weighting the portfolio more heavily toward stocks allow the credit union members to retire after only 10 years?\n"
   ]
  },
  {
   "cell_type": "code",
   "execution_count": 95,
   "metadata": {},
   "outputs": [
    {
     "data": {
      "text/html": [
       "<div>\n",
       "<style scoped>\n",
       "    .dataframe tbody tr th:only-of-type {\n",
       "        vertical-align: middle;\n",
       "    }\n",
       "\n",
       "    .dataframe tbody tr th {\n",
       "        vertical-align: top;\n",
       "    }\n",
       "\n",
       "    .dataframe thead tr th {\n",
       "        text-align: left;\n",
       "    }\n",
       "\n",
       "    .dataframe thead tr:last-of-type th {\n",
       "        text-align: right;\n",
       "    }\n",
       "</style>\n",
       "<table border=\"1\" class=\"dataframe\">\n",
       "  <thead>\n",
       "    <tr>\n",
       "      <th></th>\n",
       "      <th colspan=\"8\" halign=\"left\">AGG</th>\n",
       "      <th colspan=\"8\" halign=\"left\">SPY</th>\n",
       "    </tr>\n",
       "    <tr>\n",
       "      <th></th>\n",
       "      <th>open</th>\n",
       "      <th>high</th>\n",
       "      <th>low</th>\n",
       "      <th>close</th>\n",
       "      <th>volume</th>\n",
       "      <th>trade_count</th>\n",
       "      <th>vwap</th>\n",
       "      <th>daily_return</th>\n",
       "      <th>open</th>\n",
       "      <th>high</th>\n",
       "      <th>low</th>\n",
       "      <th>close</th>\n",
       "      <th>volume</th>\n",
       "      <th>trade_count</th>\n",
       "      <th>vwap</th>\n",
       "      <th>daily_return</th>\n",
       "    </tr>\n",
       "    <tr>\n",
       "      <th>timestamp</th>\n",
       "      <th></th>\n",
       "      <th></th>\n",
       "      <th></th>\n",
       "      <th></th>\n",
       "      <th></th>\n",
       "      <th></th>\n",
       "      <th></th>\n",
       "      <th></th>\n",
       "      <th></th>\n",
       "      <th></th>\n",
       "      <th></th>\n",
       "      <th></th>\n",
       "      <th></th>\n",
       "      <th></th>\n",
       "      <th></th>\n",
       "      <th></th>\n",
       "    </tr>\n",
       "  </thead>\n",
       "  <tbody>\n",
       "    <tr>\n",
       "      <th>2019-06-07 04:00:00+00:00</th>\n",
       "      <td>110.64</td>\n",
       "      <td>110.67</td>\n",
       "      <td>110.45</td>\n",
       "      <td>110.53</td>\n",
       "      <td>3697054</td>\n",
       "      <td>12233</td>\n",
       "      <td>110.530069</td>\n",
       "      <td>NaN</td>\n",
       "      <td>285.95</td>\n",
       "      <td>288.85</td>\n",
       "      <td>285.7400</td>\n",
       "      <td>287.65</td>\n",
       "      <td>74283295</td>\n",
       "      <td>337830</td>\n",
       "      <td>287.477283</td>\n",
       "      <td>NaN</td>\n",
       "    </tr>\n",
       "    <tr>\n",
       "      <th>2019-06-10 04:00:00+00:00</th>\n",
       "      <td>110.36</td>\n",
       "      <td>110.36</td>\n",
       "      <td>110.22</td>\n",
       "      <td>110.24</td>\n",
       "      <td>3993154</td>\n",
       "      <td>13486</td>\n",
       "      <td>110.272514</td>\n",
       "      <td>-0.002624</td>\n",
       "      <td>289.35</td>\n",
       "      <td>290.82</td>\n",
       "      <td>288.8734</td>\n",
       "      <td>288.97</td>\n",
       "      <td>60804701</td>\n",
       "      <td>298335</td>\n",
       "      <td>289.569207</td>\n",
       "      <td>0.004589</td>\n",
       "    </tr>\n",
       "    <tr>\n",
       "      <th>2019-06-11 04:00:00+00:00</th>\n",
       "      <td>110.21</td>\n",
       "      <td>110.25</td>\n",
       "      <td>110.17</td>\n",
       "      <td>110.22</td>\n",
       "      <td>4374559</td>\n",
       "      <td>13157</td>\n",
       "      <td>110.208544</td>\n",
       "      <td>-0.000181</td>\n",
       "      <td>290.95</td>\n",
       "      <td>291.40</td>\n",
       "      <td>288.1805</td>\n",
       "      <td>288.90</td>\n",
       "      <td>58696425</td>\n",
       "      <td>280368</td>\n",
       "      <td>289.403789</td>\n",
       "      <td>-0.000242</td>\n",
       "    </tr>\n",
       "    <tr>\n",
       "      <th>2019-06-12 04:00:00+00:00</th>\n",
       "      <td>110.28</td>\n",
       "      <td>110.41</td>\n",
       "      <td>110.26</td>\n",
       "      <td>110.36</td>\n",
       "      <td>2797629</td>\n",
       "      <td>10924</td>\n",
       "      <td>110.362100</td>\n",
       "      <td>0.001270</td>\n",
       "      <td>288.64</td>\n",
       "      <td>289.26</td>\n",
       "      <td>287.8150</td>\n",
       "      <td>288.39</td>\n",
       "      <td>47384212</td>\n",
       "      <td>206507</td>\n",
       "      <td>288.410265</td>\n",
       "      <td>-0.001765</td>\n",
       "    </tr>\n",
       "    <tr>\n",
       "      <th>2019-06-13 04:00:00+00:00</th>\n",
       "      <td>110.43</td>\n",
       "      <td>110.62</td>\n",
       "      <td>110.40</td>\n",
       "      <td>110.60</td>\n",
       "      <td>2371804</td>\n",
       "      <td>9691</td>\n",
       "      <td>110.549637</td>\n",
       "      <td>0.002175</td>\n",
       "      <td>289.37</td>\n",
       "      <td>289.98</td>\n",
       "      <td>288.6200</td>\n",
       "      <td>289.58</td>\n",
       "      <td>48958001</td>\n",
       "      <td>227007</td>\n",
       "      <td>289.222177</td>\n",
       "      <td>0.004126</td>\n",
       "    </tr>\n",
       "  </tbody>\n",
       "</table>\n",
       "</div>"
      ],
      "text/plain": [
       "                              AGG                                   \\\n",
       "                             open    high     low   close   volume   \n",
       "timestamp                                                            \n",
       "2019-06-07 04:00:00+00:00  110.64  110.67  110.45  110.53  3697054   \n",
       "2019-06-10 04:00:00+00:00  110.36  110.36  110.22  110.24  3993154   \n",
       "2019-06-11 04:00:00+00:00  110.21  110.25  110.17  110.22  4374559   \n",
       "2019-06-12 04:00:00+00:00  110.28  110.41  110.26  110.36  2797629   \n",
       "2019-06-13 04:00:00+00:00  110.43  110.62  110.40  110.60  2371804   \n",
       "\n",
       "                                                                   SPY  \\\n",
       "                          trade_count        vwap daily_return    open   \n",
       "timestamp                                                                \n",
       "2019-06-07 04:00:00+00:00       12233  110.530069          NaN  285.95   \n",
       "2019-06-10 04:00:00+00:00       13486  110.272514    -0.002624  289.35   \n",
       "2019-06-11 04:00:00+00:00       13157  110.208544    -0.000181  290.95   \n",
       "2019-06-12 04:00:00+00:00       10924  110.362100     0.001270  288.64   \n",
       "2019-06-13 04:00:00+00:00        9691  110.549637     0.002175  289.37   \n",
       "\n",
       "                                                                           \\\n",
       "                             high       low   close    volume trade_count   \n",
       "timestamp                                                                   \n",
       "2019-06-07 04:00:00+00:00  288.85  285.7400  287.65  74283295      337830   \n",
       "2019-06-10 04:00:00+00:00  290.82  288.8734  288.97  60804701      298335   \n",
       "2019-06-11 04:00:00+00:00  291.40  288.1805  288.90  58696425      280368   \n",
       "2019-06-12 04:00:00+00:00  289.26  287.8150  288.39  47384212      206507   \n",
       "2019-06-13 04:00:00+00:00  289.98  288.6200  289.58  48958001      227007   \n",
       "\n",
       "                                                    \n",
       "                                 vwap daily_return  \n",
       "timestamp                                           \n",
       "2019-06-07 04:00:00+00:00  287.477283          NaN  \n",
       "2019-06-10 04:00:00+00:00  289.569207     0.004589  \n",
       "2019-06-11 04:00:00+00:00  289.403789    -0.000242  \n",
       "2019-06-12 04:00:00+00:00  288.410265    -0.001765  \n",
       "2019-06-13 04:00:00+00:00  289.222177     0.004126  "
      ]
     },
     "execution_count": 95,
     "metadata": {},
     "output_type": "execute_result"
    }
   ],
   "source": [
    "# Configure a Monte Carlo simulation to forecast 10 years cumulative returns\n",
    "# The weights should be split 20% to AGG and 80% to SPY.\n",
    "# Run 500 samples.\n",
    "MC_10 = MCSimulation(\n",
    "    portfolio_data= three_year_pricing_df,\n",
    "    weights=[.20,.80],\n",
    "    num_simulation=500,\n",
    "    num_trading_days=252 * 10\n",
    ")\n",
    "\n",
    "# Review the simulation input data\n",
    "MC_10.portfolio_data.head()\n"
   ]
  },
  {
   "cell_type": "code",
   "execution_count": 99,
   "metadata": {},
   "outputs": [
    {
     "name": "stdout",
     "output_type": "stream",
     "text": [
      "Running Monte Carlo simulation number 0.\n",
      "Running Monte Carlo simulation number 10.\n",
      "Running Monte Carlo simulation number 20.\n",
      "Running Monte Carlo simulation number 30.\n",
      "Running Monte Carlo simulation number 40.\n",
      "Running Monte Carlo simulation number 50.\n",
      "Running Monte Carlo simulation number 60.\n",
      "Running Monte Carlo simulation number 70.\n",
      "Running Monte Carlo simulation number 80.\n",
      "Running Monte Carlo simulation number 90.\n",
      "Running Monte Carlo simulation number 100.\n"
     ]
    },
    {
     "name": "stderr",
     "output_type": "stream",
     "text": [
      "C:\\Users\\jarre\\OneDrive\\FinTech BootCamp Files\\Challenge_5\\Starter_Code\\MCForecastTools.py:117: PerformanceWarning: DataFrame is highly fragmented.  This is usually the result of calling `frame.insert` many times, which has poor performance.  Consider joining all columns at once using pd.concat(axis=1) instead.  To get a de-fragmented frame, use `newframe = frame.copy()`\n",
      "  portfolio_cumulative_returns[n] = (1 + sim_df.fillna(0)).cumprod()\n"
     ]
    },
    {
     "name": "stdout",
     "output_type": "stream",
     "text": [
      "Running Monte Carlo simulation number 110.\n",
      "Running Monte Carlo simulation number 120.\n",
      "Running Monte Carlo simulation number 130.\n",
      "Running Monte Carlo simulation number 140.\n",
      "Running Monte Carlo simulation number 150.\n",
      "Running Monte Carlo simulation number 160.\n",
      "Running Monte Carlo simulation number 170.\n",
      "Running Monte Carlo simulation number 180.\n",
      "Running Monte Carlo simulation number 190.\n",
      "Running Monte Carlo simulation number 200.\n",
      "Running Monte Carlo simulation number 210.\n",
      "Running Monte Carlo simulation number 220.\n",
      "Running Monte Carlo simulation number 230.\n",
      "Running Monte Carlo simulation number 240.\n",
      "Running Monte Carlo simulation number 250.\n",
      "Running Monte Carlo simulation number 260.\n",
      "Running Monte Carlo simulation number 270.\n",
      "Running Monte Carlo simulation number 280.\n",
      "Running Monte Carlo simulation number 290.\n",
      "Running Monte Carlo simulation number 300.\n",
      "Running Monte Carlo simulation number 310.\n",
      "Running Monte Carlo simulation number 320.\n",
      "Running Monte Carlo simulation number 330.\n",
      "Running Monte Carlo simulation number 340.\n",
      "Running Monte Carlo simulation number 350.\n",
      "Running Monte Carlo simulation number 360.\n",
      "Running Monte Carlo simulation number 370.\n",
      "Running Monte Carlo simulation number 380.\n",
      "Running Monte Carlo simulation number 390.\n",
      "Running Monte Carlo simulation number 400.\n",
      "Running Monte Carlo simulation number 410.\n",
      "Running Monte Carlo simulation number 420.\n",
      "Running Monte Carlo simulation number 430.\n",
      "Running Monte Carlo simulation number 440.\n",
      "Running Monte Carlo simulation number 450.\n",
      "Running Monte Carlo simulation number 460.\n",
      "Running Monte Carlo simulation number 470.\n",
      "Running Monte Carlo simulation number 480.\n",
      "Running Monte Carlo simulation number 490.\n"
     ]
    },
    {
     "data": {
      "text/html": [
       "<div>\n",
       "<style scoped>\n",
       "    .dataframe tbody tr th:only-of-type {\n",
       "        vertical-align: middle;\n",
       "    }\n",
       "\n",
       "    .dataframe tbody tr th {\n",
       "        vertical-align: top;\n",
       "    }\n",
       "\n",
       "    .dataframe thead th {\n",
       "        text-align: right;\n",
       "    }\n",
       "</style>\n",
       "<table border=\"1\" class=\"dataframe\">\n",
       "  <thead>\n",
       "    <tr style=\"text-align: right;\">\n",
       "      <th></th>\n",
       "      <th>0</th>\n",
       "      <th>1</th>\n",
       "      <th>2</th>\n",
       "      <th>3</th>\n",
       "      <th>4</th>\n",
       "      <th>5</th>\n",
       "      <th>6</th>\n",
       "      <th>7</th>\n",
       "      <th>8</th>\n",
       "      <th>9</th>\n",
       "      <th>...</th>\n",
       "      <th>490</th>\n",
       "      <th>491</th>\n",
       "      <th>492</th>\n",
       "      <th>493</th>\n",
       "      <th>494</th>\n",
       "      <th>495</th>\n",
       "      <th>496</th>\n",
       "      <th>497</th>\n",
       "      <th>498</th>\n",
       "      <th>499</th>\n",
       "    </tr>\n",
       "  </thead>\n",
       "  <tbody>\n",
       "    <tr>\n",
       "      <th>0</th>\n",
       "      <td>1.000000</td>\n",
       "      <td>1.000000</td>\n",
       "      <td>1.000000</td>\n",
       "      <td>1.000000</td>\n",
       "      <td>1.000000</td>\n",
       "      <td>1.000000</td>\n",
       "      <td>1.000000</td>\n",
       "      <td>1.000000</td>\n",
       "      <td>1.000000</td>\n",
       "      <td>1.000000</td>\n",
       "      <td>...</td>\n",
       "      <td>1.000000</td>\n",
       "      <td>1.000000</td>\n",
       "      <td>1.000000</td>\n",
       "      <td>1.000000</td>\n",
       "      <td>1.000000</td>\n",
       "      <td>1.000000</td>\n",
       "      <td>1.000000</td>\n",
       "      <td>1.000000</td>\n",
       "      <td>1.000000</td>\n",
       "      <td>1.000000</td>\n",
       "    </tr>\n",
       "    <tr>\n",
       "      <th>1</th>\n",
       "      <td>0.995377</td>\n",
       "      <td>0.970580</td>\n",
       "      <td>1.008659</td>\n",
       "      <td>1.016197</td>\n",
       "      <td>1.013710</td>\n",
       "      <td>0.997405</td>\n",
       "      <td>1.001362</td>\n",
       "      <td>0.993677</td>\n",
       "      <td>0.997178</td>\n",
       "      <td>1.007739</td>\n",
       "      <td>...</td>\n",
       "      <td>1.008803</td>\n",
       "      <td>1.004905</td>\n",
       "      <td>0.991656</td>\n",
       "      <td>1.010735</td>\n",
       "      <td>1.004281</td>\n",
       "      <td>1.004978</td>\n",
       "      <td>0.994956</td>\n",
       "      <td>1.013258</td>\n",
       "      <td>1.009486</td>\n",
       "      <td>0.982508</td>\n",
       "    </tr>\n",
       "    <tr>\n",
       "      <th>2</th>\n",
       "      <td>0.990149</td>\n",
       "      <td>0.962488</td>\n",
       "      <td>1.021651</td>\n",
       "      <td>1.025767</td>\n",
       "      <td>1.013530</td>\n",
       "      <td>1.008160</td>\n",
       "      <td>0.975267</td>\n",
       "      <td>1.009134</td>\n",
       "      <td>0.993584</td>\n",
       "      <td>1.000550</td>\n",
       "      <td>...</td>\n",
       "      <td>1.000983</td>\n",
       "      <td>0.985459</td>\n",
       "      <td>0.974834</td>\n",
       "      <td>1.008124</td>\n",
       "      <td>0.986113</td>\n",
       "      <td>0.984506</td>\n",
       "      <td>0.998704</td>\n",
       "      <td>1.004207</td>\n",
       "      <td>1.012559</td>\n",
       "      <td>0.959669</td>\n",
       "    </tr>\n",
       "    <tr>\n",
       "      <th>3</th>\n",
       "      <td>1.007583</td>\n",
       "      <td>0.953892</td>\n",
       "      <td>1.035228</td>\n",
       "      <td>1.029796</td>\n",
       "      <td>1.024650</td>\n",
       "      <td>0.999479</td>\n",
       "      <td>0.988475</td>\n",
       "      <td>1.012318</td>\n",
       "      <td>0.995090</td>\n",
       "      <td>0.999972</td>\n",
       "      <td>...</td>\n",
       "      <td>1.010633</td>\n",
       "      <td>0.998059</td>\n",
       "      <td>0.972919</td>\n",
       "      <td>1.003270</td>\n",
       "      <td>0.975760</td>\n",
       "      <td>0.978791</td>\n",
       "      <td>0.993850</td>\n",
       "      <td>1.020512</td>\n",
       "      <td>1.009562</td>\n",
       "      <td>0.958316</td>\n",
       "    </tr>\n",
       "    <tr>\n",
       "      <th>4</th>\n",
       "      <td>1.006987</td>\n",
       "      <td>0.955292</td>\n",
       "      <td>1.049560</td>\n",
       "      <td>1.034640</td>\n",
       "      <td>1.035380</td>\n",
       "      <td>1.020949</td>\n",
       "      <td>1.004638</td>\n",
       "      <td>1.003459</td>\n",
       "      <td>0.989186</td>\n",
       "      <td>0.992207</td>\n",
       "      <td>...</td>\n",
       "      <td>1.011255</td>\n",
       "      <td>0.981224</td>\n",
       "      <td>0.948684</td>\n",
       "      <td>1.014102</td>\n",
       "      <td>0.974206</td>\n",
       "      <td>0.984753</td>\n",
       "      <td>0.997338</td>\n",
       "      <td>1.015756</td>\n",
       "      <td>1.007690</td>\n",
       "      <td>0.970638</td>\n",
       "    </tr>\n",
       "    <tr>\n",
       "      <th>...</th>\n",
       "      <td>...</td>\n",
       "      <td>...</td>\n",
       "      <td>...</td>\n",
       "      <td>...</td>\n",
       "      <td>...</td>\n",
       "      <td>...</td>\n",
       "      <td>...</td>\n",
       "      <td>...</td>\n",
       "      <td>...</td>\n",
       "      <td>...</td>\n",
       "      <td>...</td>\n",
       "      <td>...</td>\n",
       "      <td>...</td>\n",
       "      <td>...</td>\n",
       "      <td>...</td>\n",
       "      <td>...</td>\n",
       "      <td>...</td>\n",
       "      <td>...</td>\n",
       "      <td>...</td>\n",
       "      <td>...</td>\n",
       "      <td>...</td>\n",
       "    </tr>\n",
       "    <tr>\n",
       "      <th>2516</th>\n",
       "      <td>1.416711</td>\n",
       "      <td>1.491986</td>\n",
       "      <td>1.201143</td>\n",
       "      <td>3.553572</td>\n",
       "      <td>3.665840</td>\n",
       "      <td>3.157414</td>\n",
       "      <td>1.805171</td>\n",
       "      <td>1.376611</td>\n",
       "      <td>1.199336</td>\n",
       "      <td>2.944406</td>\n",
       "      <td>...</td>\n",
       "      <td>2.620040</td>\n",
       "      <td>3.650340</td>\n",
       "      <td>4.707632</td>\n",
       "      <td>2.923665</td>\n",
       "      <td>2.026630</td>\n",
       "      <td>1.070239</td>\n",
       "      <td>1.924488</td>\n",
       "      <td>5.657280</td>\n",
       "      <td>6.447957</td>\n",
       "      <td>2.141196</td>\n",
       "    </tr>\n",
       "    <tr>\n",
       "      <th>2517</th>\n",
       "      <td>1.410775</td>\n",
       "      <td>1.486429</td>\n",
       "      <td>1.229353</td>\n",
       "      <td>3.589897</td>\n",
       "      <td>3.726095</td>\n",
       "      <td>3.173285</td>\n",
       "      <td>1.780350</td>\n",
       "      <td>1.378867</td>\n",
       "      <td>1.203559</td>\n",
       "      <td>2.926352</td>\n",
       "      <td>...</td>\n",
       "      <td>2.587068</td>\n",
       "      <td>3.593090</td>\n",
       "      <td>4.724108</td>\n",
       "      <td>2.851532</td>\n",
       "      <td>1.997200</td>\n",
       "      <td>1.060222</td>\n",
       "      <td>1.931505</td>\n",
       "      <td>5.529674</td>\n",
       "      <td>6.437567</td>\n",
       "      <td>2.166961</td>\n",
       "    </tr>\n",
       "    <tr>\n",
       "      <th>2518</th>\n",
       "      <td>1.410277</td>\n",
       "      <td>1.481377</td>\n",
       "      <td>1.245571</td>\n",
       "      <td>3.589091</td>\n",
       "      <td>3.746617</td>\n",
       "      <td>3.158718</td>\n",
       "      <td>1.825840</td>\n",
       "      <td>1.378276</td>\n",
       "      <td>1.217960</td>\n",
       "      <td>2.882223</td>\n",
       "      <td>...</td>\n",
       "      <td>2.547393</td>\n",
       "      <td>3.613796</td>\n",
       "      <td>4.721130</td>\n",
       "      <td>2.826454</td>\n",
       "      <td>2.025012</td>\n",
       "      <td>1.068256</td>\n",
       "      <td>1.944841</td>\n",
       "      <td>5.564520</td>\n",
       "      <td>6.515792</td>\n",
       "      <td>2.179931</td>\n",
       "    </tr>\n",
       "    <tr>\n",
       "      <th>2519</th>\n",
       "      <td>1.421055</td>\n",
       "      <td>1.487499</td>\n",
       "      <td>1.222616</td>\n",
       "      <td>3.579315</td>\n",
       "      <td>3.810213</td>\n",
       "      <td>3.140416</td>\n",
       "      <td>1.798825</td>\n",
       "      <td>1.387662</td>\n",
       "      <td>1.216586</td>\n",
       "      <td>2.915965</td>\n",
       "      <td>...</td>\n",
       "      <td>2.543943</td>\n",
       "      <td>3.553941</td>\n",
       "      <td>4.685614</td>\n",
       "      <td>2.793978</td>\n",
       "      <td>2.005834</td>\n",
       "      <td>1.084172</td>\n",
       "      <td>1.982887</td>\n",
       "      <td>5.465765</td>\n",
       "      <td>6.471584</td>\n",
       "      <td>2.144842</td>\n",
       "    </tr>\n",
       "    <tr>\n",
       "      <th>2520</th>\n",
       "      <td>1.421961</td>\n",
       "      <td>1.498131</td>\n",
       "      <td>1.229525</td>\n",
       "      <td>3.638907</td>\n",
       "      <td>3.750874</td>\n",
       "      <td>3.152449</td>\n",
       "      <td>1.823723</td>\n",
       "      <td>1.408305</td>\n",
       "      <td>1.204361</td>\n",
       "      <td>2.890313</td>\n",
       "      <td>...</td>\n",
       "      <td>2.525346</td>\n",
       "      <td>3.630278</td>\n",
       "      <td>4.633394</td>\n",
       "      <td>2.766978</td>\n",
       "      <td>2.000673</td>\n",
       "      <td>1.084818</td>\n",
       "      <td>1.952562</td>\n",
       "      <td>5.401326</td>\n",
       "      <td>6.439168</td>\n",
       "      <td>2.191519</td>\n",
       "    </tr>\n",
       "  </tbody>\n",
       "</table>\n",
       "<p>2521 rows × 500 columns</p>\n",
       "</div>"
      ],
      "text/plain": [
       "           0         1         2         3         4         5         6    \\\n",
       "0     1.000000  1.000000  1.000000  1.000000  1.000000  1.000000  1.000000   \n",
       "1     0.995377  0.970580  1.008659  1.016197  1.013710  0.997405  1.001362   \n",
       "2     0.990149  0.962488  1.021651  1.025767  1.013530  1.008160  0.975267   \n",
       "3     1.007583  0.953892  1.035228  1.029796  1.024650  0.999479  0.988475   \n",
       "4     1.006987  0.955292  1.049560  1.034640  1.035380  1.020949  1.004638   \n",
       "...        ...       ...       ...       ...       ...       ...       ...   \n",
       "2516  1.416711  1.491986  1.201143  3.553572  3.665840  3.157414  1.805171   \n",
       "2517  1.410775  1.486429  1.229353  3.589897  3.726095  3.173285  1.780350   \n",
       "2518  1.410277  1.481377  1.245571  3.589091  3.746617  3.158718  1.825840   \n",
       "2519  1.421055  1.487499  1.222616  3.579315  3.810213  3.140416  1.798825   \n",
       "2520  1.421961  1.498131  1.229525  3.638907  3.750874  3.152449  1.823723   \n",
       "\n",
       "           7         8         9    ...       490       491       492  \\\n",
       "0     1.000000  1.000000  1.000000  ...  1.000000  1.000000  1.000000   \n",
       "1     0.993677  0.997178  1.007739  ...  1.008803  1.004905  0.991656   \n",
       "2     1.009134  0.993584  1.000550  ...  1.000983  0.985459  0.974834   \n",
       "3     1.012318  0.995090  0.999972  ...  1.010633  0.998059  0.972919   \n",
       "4     1.003459  0.989186  0.992207  ...  1.011255  0.981224  0.948684   \n",
       "...        ...       ...       ...  ...       ...       ...       ...   \n",
       "2516  1.376611  1.199336  2.944406  ...  2.620040  3.650340  4.707632   \n",
       "2517  1.378867  1.203559  2.926352  ...  2.587068  3.593090  4.724108   \n",
       "2518  1.378276  1.217960  2.882223  ...  2.547393  3.613796  4.721130   \n",
       "2519  1.387662  1.216586  2.915965  ...  2.543943  3.553941  4.685614   \n",
       "2520  1.408305  1.204361  2.890313  ...  2.525346  3.630278  4.633394   \n",
       "\n",
       "           493       494       495       496       497       498       499  \n",
       "0     1.000000  1.000000  1.000000  1.000000  1.000000  1.000000  1.000000  \n",
       "1     1.010735  1.004281  1.004978  0.994956  1.013258  1.009486  0.982508  \n",
       "2     1.008124  0.986113  0.984506  0.998704  1.004207  1.012559  0.959669  \n",
       "3     1.003270  0.975760  0.978791  0.993850  1.020512  1.009562  0.958316  \n",
       "4     1.014102  0.974206  0.984753  0.997338  1.015756  1.007690  0.970638  \n",
       "...        ...       ...       ...       ...       ...       ...       ...  \n",
       "2516  2.923665  2.026630  1.070239  1.924488  5.657280  6.447957  2.141196  \n",
       "2517  2.851532  1.997200  1.060222  1.931505  5.529674  6.437567  2.166961  \n",
       "2518  2.826454  2.025012  1.068256  1.944841  5.564520  6.515792  2.179931  \n",
       "2519  2.793978  2.005834  1.084172  1.982887  5.465765  6.471584  2.144842  \n",
       "2520  2.766978  2.000673  1.084818  1.952562  5.401326  6.439168  2.191519  \n",
       "\n",
       "[2521 rows x 500 columns]"
      ]
     },
     "execution_count": 99,
     "metadata": {},
     "output_type": "execute_result"
    }
   ],
   "source": [
    "# Run the Monte Carlo simulation to forecast 10 years cumulative returns\n",
    "MC_10.calc_cumulative_return()\n"
   ]
  },
  {
   "cell_type": "code",
   "execution_count": 100,
   "metadata": {},
   "outputs": [
    {
     "data": {
      "image/png": "[encoded data removed]",
      "text/plain": [
       "<Figure size 432x288 with 1 Axes>"
      ]
     },
     "metadata": {
      "needs_background": "light"
     },
     "output_type": "display_data"
    }
   ],
   "source": [
    "# Visualize the 10-year Monte Carlo simulation by creating an\n",
    "# overlay line plot\n",
    "MC_10_line_plot = MC_10.plot_simulation()\n"
   ]
  },
  {
   "cell_type": "code",
   "execution_count": 101,
   "metadata": {},
   "outputs": [
    {
     "data": {
      "image/png": "[encoded data removed]",
      "text/plain": [
       "<Figure size 432x288 with 1 Axes>"
      ]
     },
     "metadata": {
      "needs_background": "light"
     },
     "output_type": "display_data"
    }
   ],
   "source": [
    "# Visualize the probability distribution of the 10-year Monte Carlo simulation \n",
    "# by plotting a histogram\n",
    "MC_10_dist_plot = MC_10.plot_distribution()\n"
   ]
  },
  {
   "cell_type": "code",
   "execution_count": 102,
   "metadata": {},
   "outputs": [
    {
     "data": {
      "text/plain": [
       "count           500.000000\n",
       "mean              3.087830\n",
       "std               1.915402\n",
       "min               0.403496\n",
       "25%               1.727742\n",
       "50%               2.557028\n",
       "75%               3.913307\n",
       "max              13.379216\n",
       "95% CI Lower      0.957382\n",
       "95% CI Upper      8.578699\n",
       "Name: 2520, dtype: float64"
      ]
     },
     "execution_count": 102,
     "metadata": {},
     "output_type": "execute_result"
    }
   ],
   "source": [
    "# Generate summary statistics from the 10-year Monte Carlo simulation results\n",
    "# Save the results as a variable\n",
    "MC_10_summary_stats = MC_10.summarize_cumulative_return()\n",
    "\n",
    "\n",
    "# Review the 10-year Monte Carlo summary statistics\n",
    "MC_10_summary_stats"
   ]
  },
  {
   "cell_type": "markdown",
   "metadata": {},
   "source": [
    "### Answer the following questions:"
   ]
  },
  {
   "cell_type": "markdown",
   "metadata": {},
   "source": [
    "#### Question: Using the current value of only the stock and bond portion of the member's portfolio and the summary statistics that you generated from the new Monte Carlo simulation, what are the lower and upper bounds for the expected value of the portfolio (with the new weights) with a 95% confidence interval?"
   ]
  },
  {
   "cell_type": "code",
   "execution_count": 103,
   "metadata": {},
   "outputs": [
    {
     "name": "stdout",
     "output_type": "stream",
     "text": [
      "$89656.90\n"
     ]
    }
   ],
   "source": [
    "# Print the current balance of the stock and bond portion of the members portfolio\n",
    "print(f\"${total_stocks_bonds:.2f}\")\n"
   ]
  },
  {
   "cell_type": "code",
   "execution_count": 104,
   "metadata": {},
   "outputs": [
    {
     "name": "stdout",
     "output_type": "stream",
     "text": [
      "There is a 95% chance that an initial investment of $89656.90 in the portfolio over the next year will end within the range of $85835.89 and $769139.56.\n"
     ]
    }
   ],
   "source": [
    "# Use the lower and upper `95%` confidence intervals to calculate the range of the possible outcomes for the current stock/bond portfolio\n",
    "ci_lower_ten_cumulative_return = (MC_10_summary_stats[8]* total_stocks_bonds)\n",
    "ci_upper_ten_cumulative_return = (MC_10_summary_stats[9]* total_stocks_bonds)\n",
    "\n",
    "# Print the result of your calculations\n",
    "print(f\"There is a 95% chance that an initial investment of ${total_stocks_bonds:.2f} in the portfolio\"\n",
    "      f\" over the next year will end within the range of\"\n",
    "      f\" ${ci_lower_ten_cumulative_return:.2f} and ${ci_upper_ten_cumulative_return:.2f}.\")"
   ]
  },
  {
   "cell_type": "markdown",
   "metadata": {},
   "source": [
    "#### Question: Will weighting the portfolio more heavily to stocks allow the credit union members to retire after only 10 years?"
   ]
  },
  {
   "cell_type": "raw",
   "metadata": {},
   "source": [
    "**Answer** # It gives them the potential to do so but they will be taking additional risk"
   ]
  },
  {
   "cell_type": "code",
   "execution_count": null,
   "metadata": {},
   "outputs": [],
   "source": []
  }
 ],
 "metadata": {
  "kernelspec": {
   "display_name": "dev",
   "language": "python",
   "name": "dev"
  },
  "language_info": {
   "codemirror_mode": {
    "name": "ipython",
    "version": 3
   },
   "file_extension": ".py",
   "mimetype": "text/x-python",
   "name": "python",
   "nbconvert_exporter": "python",
   "pygments_lexer": "ipython3",
   "version": "3.7.11"
  }
 },
 "nbformat": 4,
 "nbformat_minor": 4
}
